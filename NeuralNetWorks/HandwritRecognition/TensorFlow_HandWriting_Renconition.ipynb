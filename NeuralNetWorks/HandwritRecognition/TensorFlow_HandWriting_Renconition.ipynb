{
  "nbformat": 4,
  "nbformat_minor": 0,
  "metadata": {
    "colab": {
      "name": "TensorFlow HandWriting Renconition.ipynb",
      "provenance": [],
      "collapsed_sections": [],
      "toc_visible": true
    },
    "kernelspec": {
      "name": "python3",
      "display_name": "Python 3"
    },
    "accelerator": "GPU"
  },
  "cells": [
    {
      "cell_type": "markdown",
      "metadata": {
        "id": "JNbe_uiTA3uV",
        "colab_type": "text"
      },
      "source": [
        "## **Imports**"
      ]
    },
    {
      "cell_type": "code",
      "metadata": {
        "id": "agsIOZ2mA8E0",
        "colab_type": "code",
        "colab": {}
      },
      "source": [
        "from numpy.random import seed\n",
        "import tensorflow\n",
        "tensorflow.random.set_seed(404)\n"
      ],
      "execution_count": 0,
      "outputs": []
    },
    {
      "cell_type": "code",
      "metadata": {
        "id": "9gAy3LTfC1pA",
        "colab_type": "code",
        "colab": {}
      },
      "source": [
        "import os\n",
        "import numpy as np\n",
        "import tensorflow.compat.v1 as tf\n",
        "tf.disable_v2_behavior()\n",
        "from datetime import datetime\n",
        "\n",
        "from PIL import Image"
      ],
      "execution_count": 0,
      "outputs": []
    },
    {
      "cell_type": "markdown",
      "metadata": {
        "id": "Q7e1l8x0A84W",
        "colab_type": "text"
      },
      "source": [
        "## **Constants**"
      ]
    },
    {
      "cell_type": "code",
      "metadata": {
        "id": "NlT8G2MzBCI0",
        "colab_type": "code",
        "colab": {}
      },
      "source": [
        "X_TRAIN_PATH = '/content/drive/My Drive/Machine Learning Neural Network/HandWriting Recognition/MNIST/digit_xtrain.csv'\n",
        "X_TEST_PATH = '/content/drive/My Drive/Machine Learning Neural Network/HandWriting Recognition/MNIST/digit_xtest.csv'\n",
        "Y_TRAIN_PATH = '/content/drive/My Drive/Machine Learning Neural Network/HandWriting Recognition/MNIST/digit_ytrain.csv'\n",
        "Y_TEST_PATH = '/content/drive/My Drive/Machine Learning Neural Network/HandWriting Recognition/MNIST/digit_ytest.csv'\n"
      ],
      "execution_count": 0,
      "outputs": []
    },
    {
      "cell_type": "code",
      "metadata": {
        "id": "smDKcpQ6o0kN",
        "colab_type": "code",
        "colab": {}
      },
      "source": [
        "NR_CLASSES = 10\n",
        "VALIDATION_SIZE = 10000\n",
        "IMAGE_WIDTH = 28\n",
        "IMAGE_HEIGHT = 28\n",
        "CHANEL = 1\n",
        "TOTAL_NUM_INPUT = IMAGE_WIDTH * IMAGE_HEIGHT * CHANEL\n",
        "\n",
        "LOGGING_PATH = '/content/drive/My Drive/Machine Learning Neural Network/HandWriting Recognition/tensorboard_mnist_digit_log/'"
      ],
      "execution_count": 0,
      "outputs": []
    },
    {
      "cell_type": "markdown",
      "metadata": {
        "id": "kV2VQoSMBCxh",
        "colab_type": "text"
      },
      "source": [
        "## **Gether Data**"
      ]
    },
    {
      "cell_type": "code",
      "metadata": {
        "id": "wJY2Jx_pBGX9",
        "colab_type": "code",
        "outputId": "bf2d03fa-341b-49c8-8dbb-dc8d2afddc6e",
        "colab": {
          "base_uri": "https://localhost:8080/",
          "height": 52
        }
      },
      "source": [
        "%%time\n",
        "y_train_all = np.loadtxt(Y_TRAIN_PATH, delimiter=',', dtype=int)"
      ],
      "execution_count": 455,
      "outputs": [
        {
          "output_type": "stream",
          "text": [
            "CPU times: user 220 ms, sys: 1.05 ms, total: 221 ms\n",
            "Wall time: 231 ms\n"
          ],
          "name": "stdout"
        }
      ]
    },
    {
      "cell_type": "code",
      "metadata": {
        "id": "0l1xki9lfFEO",
        "colab_type": "code",
        "outputId": "2339a035-450c-4777-ef26-b412df72873e",
        "colab": {
          "base_uri": "https://localhost:8080/",
          "height": 34
        }
      },
      "source": [
        "y_train_all.shape"
      ],
      "execution_count": 456,
      "outputs": [
        {
          "output_type": "execute_result",
          "data": {
            "text/plain": [
              "(60000,)"
            ]
          },
          "metadata": {
            "tags": []
          },
          "execution_count": 456
        }
      ]
    },
    {
      "cell_type": "code",
      "metadata": {
        "id": "xbL_LFkjenBO",
        "colab_type": "code",
        "outputId": "83fe8c19-f182-474f-8270-d23f1b831b27",
        "colab": {
          "base_uri": "https://localhost:8080/",
          "height": 52
        }
      },
      "source": [
        "%%time\n",
        "y_test = np.loadtxt(Y_TEST_PATH, delimiter=',', dtype=int)"
      ],
      "execution_count": 457,
      "outputs": [
        {
          "output_type": "stream",
          "text": [
            "CPU times: user 35.4 ms, sys: 0 ns, total: 35.4 ms\n",
            "Wall time: 37.7 ms\n"
          ],
          "name": "stdout"
        }
      ]
    },
    {
      "cell_type": "code",
      "metadata": {
        "id": "O3KMd2JAfNSK",
        "colab_type": "code",
        "outputId": "0266dd74-28fd-4258-8fb5-fb2031df99fe",
        "colab": {
          "base_uri": "https://localhost:8080/",
          "height": 34
        }
      },
      "source": [
        "y_test.shape"
      ],
      "execution_count": 458,
      "outputs": [
        {
          "output_type": "execute_result",
          "data": {
            "text/plain": [
              "(10000,)"
            ]
          },
          "metadata": {
            "tags": []
          },
          "execution_count": 458
        }
      ]
    },
    {
      "cell_type": "code",
      "metadata": {
        "colab_type": "code",
        "id": "l4GicdpGfh5C",
        "outputId": "49838c0b-cd28-4f31-f3b8-0e74933cbb2b",
        "colab": {
          "base_uri": "https://localhost:8080/",
          "height": 52
        }
      },
      "source": [
        "%%time\n",
        "x_train_all = np.loadtxt(X_TRAIN_PATH, delimiter=',', dtype=int)"
      ],
      "execution_count": 459,
      "outputs": [
        {
          "output_type": "stream",
          "text": [
            "CPU times: user 39.7 s, sys: 775 ms, total: 40.5 s\n",
            "Wall time: 40.5 s\n"
          ],
          "name": "stdout"
        }
      ]
    },
    {
      "cell_type": "code",
      "metadata": {
        "colab_type": "code",
        "id": "y-gTAi4kfh5v",
        "outputId": "97a183b1-8dc6-460a-eea6-3b724302254b",
        "colab": {
          "base_uri": "https://localhost:8080/",
          "height": 34
        }
      },
      "source": [
        "x_train_all.shape"
      ],
      "execution_count": 460,
      "outputs": [
        {
          "output_type": "execute_result",
          "data": {
            "text/plain": [
              "(60000, 784)"
            ]
          },
          "metadata": {
            "tags": []
          },
          "execution_count": 460
        }
      ]
    },
    {
      "cell_type": "code",
      "metadata": {
        "colab_type": "code",
        "id": "2xPM9_sufzmU",
        "outputId": "8016e14a-87cb-4840-d25c-2966508c8cf9",
        "colab": {
          "base_uri": "https://localhost:8080/",
          "height": 52
        }
      },
      "source": [
        "%%time\n",
        "x_test = np.loadtxt(X_TEST_PATH, delimiter=',', dtype=int)"
      ],
      "execution_count": 461,
      "outputs": [
        {
          "output_type": "stream",
          "text": [
            "CPU times: user 6.61 s, sys: 146 ms, total: 6.76 s\n",
            "Wall time: 6.76 s\n"
          ],
          "name": "stdout"
        }
      ]
    },
    {
      "cell_type": "code",
      "metadata": {
        "colab_type": "code",
        "id": "yZuvN5bRfzm7",
        "outputId": "b9ed1dde-9dac-435f-c2ee-15ae3bae6ba5",
        "colab": {
          "base_uri": "https://localhost:8080/",
          "height": 34
        }
      },
      "source": [
        "x_test.shape"
      ],
      "execution_count": 462,
      "outputs": [
        {
          "output_type": "execute_result",
          "data": {
            "text/plain": [
              "(10000, 784)"
            ]
          },
          "metadata": {
            "tags": []
          },
          "execution_count": 462
        }
      ]
    },
    {
      "cell_type": "markdown",
      "metadata": {
        "id": "FZHjNAODguZT",
        "colab_type": "text"
      },
      "source": [
        "image resoluation is 28 * 28 * 1, 1 is color chanel 784"
      ]
    },
    {
      "cell_type": "markdown",
      "metadata": {
        "id": "k05wf7UUhS-o",
        "colab_type": "text"
      },
      "source": [
        "## **Explore Data**"
      ]
    },
    {
      "cell_type": "code",
      "metadata": {
        "id": "gMfyUgwfhVPp",
        "colab_type": "code",
        "outputId": "d470b244-902d-4935-839e-f71c35cdc04e",
        "colab": {
          "base_uri": "https://localhost:8080/",
          "height": 139
        }
      },
      "source": [
        "print(x_train_all)"
      ],
      "execution_count": 463,
      "outputs": [
        {
          "output_type": "stream",
          "text": [
            "[[0 0 0 ... 0 0 0]\n",
            " [0 0 0 ... 0 0 0]\n",
            " [0 0 0 ... 0 0 0]\n",
            " ...\n",
            " [0 0 0 ... 0 0 0]\n",
            " [0 0 0 ... 0 0 0]\n",
            " [0 0 0 ... 0 0 0]]\n"
          ],
          "name": "stdout"
        }
      ]
    },
    {
      "cell_type": "markdown",
      "metadata": {
        "id": "fsFWclndlgv1",
        "colab_type": "text"
      },
      "source": [
        "## **Data Preprocessing**"
      ]
    },
    {
      "cell_type": "code",
      "metadata": {
        "id": "7UsSXR84fpc2",
        "colab_type": "code",
        "colab": {}
      },
      "source": [
        "x_train_all, x_test = x_train_all / 255.0, x_test/255.0"
      ],
      "execution_count": 0,
      "outputs": []
    },
    {
      "cell_type": "code",
      "metadata": {
        "id": "F5H_17VvmQRv",
        "colab_type": "code",
        "outputId": "cfc96ad3-2642-45d7-ce98-4057236ad30a",
        "colab": {
          "base_uri": "https://localhost:8080/",
          "height": 139
        }
      },
      "source": [
        "x_train_all"
      ],
      "execution_count": 465,
      "outputs": [
        {
          "output_type": "execute_result",
          "data": {
            "text/plain": [
              "array([[0., 0., 0., ..., 0., 0., 0.],\n",
              "       [0., 0., 0., ..., 0., 0., 0.],\n",
              "       [0., 0., 0., ..., 0., 0., 0.],\n",
              "       ...,\n",
              "       [0., 0., 0., ..., 0., 0., 0.],\n",
              "       [0., 0., 0., ..., 0., 0., 0.],\n",
              "       [0., 0., 0., ..., 0., 0., 0.]])"
            ]
          },
          "metadata": {
            "tags": []
          },
          "execution_count": 465
        }
      ]
    },
    {
      "cell_type": "code",
      "metadata": {
        "id": "l8BJhxYiz-9J",
        "colab_type": "code",
        "outputId": "4b408644-aefa-4d65-aa34-81f101c59577",
        "colab": {
          "base_uri": "https://localhost:8080/",
          "height": 34
        }
      },
      "source": [
        "x_train_all.shape"
      ],
      "execution_count": 466,
      "outputs": [
        {
          "output_type": "execute_result",
          "data": {
            "text/plain": [
              "(60000, 784)"
            ]
          },
          "metadata": {
            "tags": []
          },
          "execution_count": 466
        }
      ]
    },
    {
      "cell_type": "code",
      "metadata": {
        "id": "wQnBLkBwmW93",
        "colab_type": "code",
        "outputId": "a1cb732e-2789-4169-cbb6-3467d98dedff",
        "colab": {
          "base_uri": "https://localhost:8080/",
          "height": 34
        }
      },
      "source": [
        "y_train_all"
      ],
      "execution_count": 467,
      "outputs": [
        {
          "output_type": "execute_result",
          "data": {
            "text/plain": [
              "array([5, 0, 4, ..., 5, 6, 8])"
            ]
          },
          "metadata": {
            "tags": []
          },
          "execution_count": 467
        }
      ]
    },
    {
      "cell_type": "code",
      "metadata": {
        "id": "Zz2wQk0Am95U",
        "colab_type": "code",
        "colab": {}
      },
      "source": [
        "y_train_all = np.eye(NR_CLASSES)[y_train_all]\n"
      ],
      "execution_count": 0,
      "outputs": []
    },
    {
      "cell_type": "code",
      "metadata": {
        "id": "7F9YNp0AnFIt",
        "colab_type": "code",
        "outputId": "a454d8cd-82f6-4168-caac-e641b80e491c",
        "colab": {
          "base_uri": "https://localhost:8080/",
          "height": 139
        }
      },
      "source": [
        "y_train_all"
      ],
      "execution_count": 469,
      "outputs": [
        {
          "output_type": "execute_result",
          "data": {
            "text/plain": [
              "array([[0., 0., 0., ..., 0., 0., 0.],\n",
              "       [1., 0., 0., ..., 0., 0., 0.],\n",
              "       [0., 0., 0., ..., 0., 0., 0.],\n",
              "       ...,\n",
              "       [0., 0., 0., ..., 0., 0., 0.],\n",
              "       [0., 0., 0., ..., 0., 0., 0.],\n",
              "       [0., 0., 0., ..., 0., 1., 0.]])"
            ]
          },
          "metadata": {
            "tags": []
          },
          "execution_count": 469
        }
      ]
    },
    {
      "cell_type": "code",
      "metadata": {
        "id": "teX-82MZrHUc",
        "colab_type": "code",
        "outputId": "6bb8b501-536a-416d-dcb4-77daf5fcd070",
        "colab": {
          "base_uri": "https://localhost:8080/",
          "height": 34
        }
      },
      "source": [
        "y_train_all.shape"
      ],
      "execution_count": 470,
      "outputs": [
        {
          "output_type": "execute_result",
          "data": {
            "text/plain": [
              "(60000, 10)"
            ]
          },
          "metadata": {
            "tags": []
          },
          "execution_count": 470
        }
      ]
    },
    {
      "cell_type": "code",
      "metadata": {
        "id": "mpZhG0MTrVjY",
        "colab_type": "code",
        "colab": {}
      },
      "source": [
        "y_test = np.eye(NR_CLASSES)[y_test]"
      ],
      "execution_count": 0,
      "outputs": []
    },
    {
      "cell_type": "code",
      "metadata": {
        "id": "LO_UbNe8rifz",
        "colab_type": "code",
        "outputId": "bb168598-5e37-4004-e742-7396bdaf2031",
        "colab": {
          "base_uri": "https://localhost:8080/",
          "height": 139
        }
      },
      "source": [
        "y_test"
      ],
      "execution_count": 472,
      "outputs": [
        {
          "output_type": "execute_result",
          "data": {
            "text/plain": [
              "array([[0., 0., 0., ..., 1., 0., 0.],\n",
              "       [0., 0., 1., ..., 0., 0., 0.],\n",
              "       [0., 1., 0., ..., 0., 0., 0.],\n",
              "       ...,\n",
              "       [0., 0., 0., ..., 0., 0., 0.],\n",
              "       [0., 0., 0., ..., 0., 0., 0.],\n",
              "       [0., 0., 0., ..., 0., 0., 0.]])"
            ]
          },
          "metadata": {
            "tags": []
          },
          "execution_count": 472
        }
      ]
    },
    {
      "cell_type": "markdown",
      "metadata": {
        "id": "eXf7PVU8ssvw",
        "colab_type": "text"
      },
      "source": [
        "## **create validation dataset**"
      ]
    },
    {
      "cell_type": "code",
      "metadata": {
        "id": "YMjYz5PBzm61",
        "colab_type": "code",
        "outputId": "248ef674-24fc-4d5f-b639-1112682901e3",
        "colab": {
          "base_uri": "https://localhost:8080/",
          "height": 34
        }
      },
      "source": [
        "x_train_all.shape"
      ],
      "execution_count": 473,
      "outputs": [
        {
          "output_type": "execute_result",
          "data": {
            "text/plain": [
              "(60000, 784)"
            ]
          },
          "metadata": {
            "tags": []
          },
          "execution_count": 473
        }
      ]
    },
    {
      "cell_type": "code",
      "metadata": {
        "id": "o6ye-cDmsrcD",
        "colab_type": "code",
        "colab": {}
      },
      "source": [
        "x_val = x_train_all[:VALIDATION_SIZE]\n",
        "y_val = y_train_all[:VALIDATION_SIZE]"
      ],
      "execution_count": 0,
      "outputs": []
    },
    {
      "cell_type": "code",
      "metadata": {
        "id": "vbGH6XjtOTGV",
        "colab_type": "code",
        "outputId": "d65de434-aa0b-42ec-b113-66ea40c7220c",
        "colab": {
          "base_uri": "https://localhost:8080/",
          "height": 139
        }
      },
      "source": [
        "y_val"
      ],
      "execution_count": 475,
      "outputs": [
        {
          "output_type": "execute_result",
          "data": {
            "text/plain": [
              "array([[0., 0., 0., ..., 0., 0., 0.],\n",
              "       [1., 0., 0., ..., 0., 0., 0.],\n",
              "       [0., 0., 0., ..., 0., 0., 0.],\n",
              "       ...,\n",
              "       [0., 0., 0., ..., 0., 0., 0.],\n",
              "       [0., 0., 0., ..., 0., 0., 1.],\n",
              "       [0., 0., 0., ..., 1., 0., 0.]])"
            ]
          },
          "metadata": {
            "tags": []
          },
          "execution_count": 475
        }
      ]
    },
    {
      "cell_type": "code",
      "metadata": {
        "id": "43i8FetysAwG",
        "colab_type": "code",
        "colab": {}
      },
      "source": [
        "x_train = x_train_all[VALIDATION_SIZE:]\n",
        "y_train = y_train_all[VALIDATION_SIZE:]"
      ],
      "execution_count": 0,
      "outputs": []
    },
    {
      "cell_type": "code",
      "metadata": {
        "id": "KMLjQ0UTzK5_",
        "colab_type": "code",
        "outputId": "aecf52b6-e719-4d3d-bca6-3ce7519d27be",
        "colab": {
          "base_uri": "https://localhost:8080/",
          "height": 34
        }
      },
      "source": [
        "x_train.shape"
      ],
      "execution_count": 477,
      "outputs": [
        {
          "output_type": "execute_result",
          "data": {
            "text/plain": [
              "(50000, 784)"
            ]
          },
          "metadata": {
            "tags": []
          },
          "execution_count": 477
        }
      ]
    },
    {
      "cell_type": "code",
      "metadata": {
        "id": "JISFxn0dyoy0",
        "colab_type": "code",
        "outputId": "d9888def-20f9-401e-a99e-0df17470604b",
        "colab": {
          "base_uri": "https://localhost:8080/",
          "height": 34
        }
      },
      "source": [
        "y_train.shape"
      ],
      "execution_count": 478,
      "outputs": [
        {
          "output_type": "execute_result",
          "data": {
            "text/plain": [
              "(50000, 10)"
            ]
          },
          "metadata": {
            "tags": []
          },
          "execution_count": 478
        }
      ]
    },
    {
      "cell_type": "code",
      "metadata": {
        "id": "GR3CsX5py0Iw",
        "colab_type": "code",
        "outputId": "7dea1cf4-5746-4674-fecd-df32133bf265",
        "colab": {
          "base_uri": "https://localhost:8080/",
          "height": 34
        }
      },
      "source": [
        "x_val.shape"
      ],
      "execution_count": 479,
      "outputs": [
        {
          "output_type": "execute_result",
          "data": {
            "text/plain": [
              "(10000, 784)"
            ]
          },
          "metadata": {
            "tags": []
          },
          "execution_count": 479
        }
      ]
    },
    {
      "cell_type": "code",
      "metadata": {
        "id": "8GyE7mDUy-S2",
        "colab_type": "code",
        "outputId": "1d27dc50-79e6-47dd-b791-73f6efe57858",
        "colab": {
          "base_uri": "https://localhost:8080/",
          "height": 34
        }
      },
      "source": [
        "y_val.shape"
      ],
      "execution_count": 480,
      "outputs": [
        {
          "output_type": "execute_result",
          "data": {
            "text/plain": [
              "(10000, 10)"
            ]
          },
          "metadata": {
            "tags": []
          },
          "execution_count": 480
        }
      ]
    },
    {
      "cell_type": "markdown",
      "metadata": {
        "id": "5iLbv8BzXXOY",
        "colab_type": "text"
      },
      "source": [
        "## **Create Tensorflow Graph**"
      ]
    },
    {
      "cell_type": "code",
      "metadata": {
        "id": "bR2Agtd1zCAl",
        "colab_type": "code",
        "colab": {}
      },
      "source": [
        "X = tf.placeholder(dtype=tf.float32, shape=[None, TOTAL_NUM_INPUT], name='X')\n",
        "Y = tf.placeholder(dtype=tf.float32, shape=[None, NR_CLASSES], name='labels')"
      ],
      "execution_count": 0,
      "outputs": []
    },
    {
      "cell_type": "markdown",
      "metadata": {
        "id": "SxCu3b9VZ5Cn",
        "colab_type": "text"
      },
      "source": [
        "## **Neural Network Architecture**\n",
        "hyperparamiter"
      ]
    },
    {
      "cell_type": "code",
      "metadata": {
        "id": "6oA46v3BYrei",
        "colab_type": "code",
        "colab": {}
      },
      "source": [
        "nr_epochs = 50\n",
        "# learninig_rate = 1e-4 #0.0001\n",
        "\n",
        "learninig_rate = 1e-3\n",
        "\n",
        "n_hidden1 = 512\n",
        "n_hidden2 = 64\n"
      ],
      "execution_count": 0,
      "outputs": []
    },
    {
      "cell_type": "code",
      "metadata": {
        "id": "x0-gnvHW-j0o",
        "colab_type": "code",
        "colab": {}
      },
      "source": [
        "def setup_layer(input, weight_dims, bias_dims, name):\n",
        "  # layer creating function\n",
        "\n",
        "  with tf.name_scope(name): \n",
        "    # hrouping operation together. pretty of graph\n",
        "    \n",
        "    initial_weight = tf.truncated_normal(shape=weight_dims, stddev=0.1, seed=42)\n",
        "    w = tf.Variable(initial_value=initial_weight, name='W')\n",
        "\n",
        "\n",
        "    intial_bias = tf.constant(value=0.0, shape=bias_dims) \n",
        "    b = tf.Variable(initial_value=intial_bias, name='B')\n",
        "\n",
        "    layer_in = tf.matmul(input, w) + b\n",
        "\n",
        "    if name=='out':\n",
        "      layer_out = tf.nn.softmax(layer_in)\n",
        "    else:\n",
        "      layer_out = tf.nn.relu(layer_in)\n",
        "    tf.summary.histogram('weight', w)\n",
        "    tf.summary.histogram('bias', b)\n",
        "\n",
        "    return layer_out\n"
      ],
      "execution_count": 0,
      "outputs": []
    },
    {
      "cell_type": "code",
      "metadata": {
        "id": "DOpYMex0DYnS",
        "colab_type": "code",
        "colab": {}
      },
      "source": [
        "layer_1 = setup_layer(input=X, weight_dims=[TOTAL_NUM_INPUT, n_hidden1],\n",
        "                      bias_dims=[n_hidden1],name='layer_1')\n",
        "# using drop layer \n",
        "layer_drop = tf.nn.dropout(layer_1, keep_prob=0.8, name='drop_out_layer')\n",
        "\n",
        "layer_2 = setup_layer(input=layer_drop, weight_dims=[n_hidden1, n_hidden2],\n",
        "                      bias_dims=[n_hidden2],name='layer_2')\n",
        "\n",
        "output = setup_layer(input=layer_2, weight_dims=[n_hidden2, NR_CLASSES],\n",
        "                      bias_dims=[NR_CLASSES],name='out')\n",
        "\n",
        "model_name = f'{n_hidden1}-{n_hidden2} LR {learninig_rate} E {nr_epochs}'"
      ],
      "execution_count": 0,
      "outputs": []
    },
    {
      "cell_type": "markdown",
      "metadata": {
        "id": "vbDytOWF8E-j",
        "colab_type": "text"
      },
      "source": [
        "#**Tensorbords Setup**"
      ]
    },
    {
      "cell_type": "code",
      "metadata": {
        "id": "q7eqrT9g8Lkp",
        "colab_type": "code",
        "outputId": "c967a2ee-eddb-4fc2-f909-49e2f94f8350",
        "colab": {
          "base_uri": "https://localhost:8080/",
          "height": 52
        }
      },
      "source": [
        "folder_name = f\"{model_name} {datetime.now().strftime('%Y%b%d %H:%M')}\"\n",
        "print(folder_name)\n",
        "directory = os.path.join(LOGGING_PATH, folder_name)\n",
        "try:\n",
        "  os.makedirs(directory)\n",
        "except OSError as err:\n",
        "  print(err.__str__)\n",
        "else:\n",
        "  print(f'folder created name is {folder_name}')"
      ],
      "execution_count": 485,
      "outputs": [
        {
          "output_type": "stream",
          "text": [
            "512-64 LR 0.001 E 50 2020Apr20 06:50\n",
            "folder created name is 512-64 LR 0.001 E 50 2020Apr20 06:50\n"
          ],
          "name": "stdout"
        }
      ]
    },
    {
      "cell_type": "markdown",
      "metadata": {
        "id": "O_ltCHTsnBX8",
        "colab_type": "text"
      },
      "source": [
        "## **Loss Optimization & metrics**"
      ]
    },
    {
      "cell_type": "markdown",
      "metadata": {
        "id": "bbLC2sEKqOAa",
        "colab_type": "text"
      },
      "source": [
        "Define Loss Fucntion"
      ]
    },
    {
      "cell_type": "code",
      "metadata": {
        "id": "5XJlY6bQnGjG",
        "colab_type": "code",
        "colab": {}
      },
      "source": [
        "with tf.name_scope('loss'):\n",
        "  loss = tf.reduce_mean(tf.nn.softmax_cross_entropy_with_logits_v2(labels=Y, logits=output))"
      ],
      "execution_count": 0,
      "outputs": []
    },
    {
      "cell_type": "markdown",
      "metadata": {
        "id": "yKVWD29wqbh_",
        "colab_type": "text"
      },
      "source": [
        "##**Optimizer setup**\n",
        "\n"
      ]
    },
    {
      "cell_type": "code",
      "metadata": {
        "id": "h3JrczgRobx6",
        "colab_type": "code",
        "colab": {}
      },
      "source": [
        "with tf.name_scope('optimizer'):\n",
        "  optimizer = tf.train.AdamOptimizer(learninig_rate)\n",
        "  train_step = optimizer.minimize(loss)"
      ],
      "execution_count": 0,
      "outputs": []
    },
    {
      "cell_type": "markdown",
      "metadata": {
        "id": "Pco63OCvqVij",
        "colab_type": "text"
      },
      "source": [
        "Accuracy of Metrics"
      ]
    },
    {
      "cell_type": "code",
      "metadata": {
        "id": "jema7PVYqS4_",
        "colab_type": "code",
        "colab": {}
      },
      "source": [
        "with tf.name_scope('accuracy_calculation'):\n",
        "  correct_prediction = tf.equal(tf.argmax(output, axis=1), tf.argmax(Y, axis=1))\n",
        "  accuracy = tf.reduce_mean(tf.cast(correct_prediction, dtype=tf.float32))"
      ],
      "execution_count": 0,
      "outputs": []
    },
    {
      "cell_type": "code",
      "metadata": {
        "id": "QL1S-JlS_RKv",
        "colab_type": "code",
        "colab": {}
      },
      "source": [
        "with tf.name_scope('performance'):\n",
        "  tf.summary.scalar('summary', accuracy)\n",
        "  tf.summary.scalar('loss', loss)"
      ],
      "execution_count": 0,
      "outputs": []
    },
    {
      "cell_type": "markdown",
      "metadata": {
        "id": "nG0QlrwNRhpf",
        "colab_type": "text"
      },
      "source": [
        "#**Check input in tensorboard**"
      ]
    },
    {
      "cell_type": "code",
      "metadata": {
        "id": "8Jke5RwcRgsl",
        "colab_type": "code",
        "colab": {}
      },
      "source": [
        "with tf.name_scope('show_image'):\n",
        "  x_image = tf.reshape(X, [-1, 28,28,1])\n",
        "  tf.summary.image('image_input', x_image, max_outputs=4)"
      ],
      "execution_count": 0,
      "outputs": []
    },
    {
      "cell_type": "markdown",
      "metadata": {
        "id": "Xf2n3xLxrwb1",
        "colab_type": "text"
      },
      "source": [
        "##**Run Session**"
      ]
    },
    {
      "cell_type": "code",
      "metadata": {
        "id": "ck7eTbLir0Zz",
        "colab_type": "code",
        "colab": {}
      },
      "source": [
        "sess = tf.Session()"
      ],
      "execution_count": 0,
      "outputs": []
    },
    {
      "cell_type": "markdown",
      "metadata": {
        "id": "FE87WdcG_hjT",
        "colab_type": "text"
      },
      "source": [
        "##**Setup file writer for summary**\n"
      ]
    },
    {
      "cell_type": "code",
      "metadata": {
        "id": "A-J0Trq__nXx",
        "colab_type": "code",
        "colab": {}
      },
      "source": [
        "merged_summary = tf.summary.merge_all()\n",
        "train_writer = tf.summary.FileWriter(directory + '/train')\n",
        "train_writer.add_graph(sess.graph)\n",
        "\n",
        "validation_writer = tf.summary.FileWriter(directory + '/validation')\n",
        "# validation and training are using same graph"
      ],
      "execution_count": 0,
      "outputs": []
    },
    {
      "cell_type": "code",
      "metadata": {
        "id": "V9BGDqdC_5G8",
        "colab_type": "code",
        "outputId": "84377d99-b24d-427d-aee4-195609bfbf97",
        "colab": {
          "base_uri": "https://localhost:8080/",
          "height": 34
        }
      },
      "source": [
        "merged_summary"
      ],
      "execution_count": 493,
      "outputs": [
        {
          "output_type": "execute_result",
          "data": {
            "text/plain": [
              "<tf.Tensor 'Merge/MergeSummary:0' shape=() dtype=string>"
            ]
          },
          "metadata": {
            "tags": []
          },
          "execution_count": 493
        }
      ]
    },
    {
      "cell_type": "code",
      "metadata": {
        "id": "pWj9CFrksKF2",
        "colab_type": "code",
        "colab": {}
      },
      "source": [
        "# initize all global variable\n",
        "init = tf.global_variables_initializer()\n",
        "sess.run(init)"
      ],
      "execution_count": 0,
      "outputs": []
    },
    {
      "cell_type": "code",
      "metadata": {
        "id": "zey93--_teLa",
        "colab_type": "code",
        "colab": {}
      },
      "source": [
        "# w3.eval(sess)"
      ],
      "execution_count": 0,
      "outputs": []
    },
    {
      "cell_type": "markdown",
      "metadata": {
        "id": "uafQf8tYtqXD",
        "colab_type": "text"
      },
      "source": [
        "#**Batching (Split) Data**"
      ]
    },
    {
      "cell_type": "code",
      "metadata": {
        "id": "9dOUihZMt0GB",
        "colab_type": "code",
        "colab": {}
      },
      "source": [
        "size_batch = 1000"
      ],
      "execution_count": 0,
      "outputs": []
    },
    {
      "cell_type": "code",
      "metadata": {
        "id": "eaTbt-ijuA6F",
        "colab_type": "code",
        "colab": {}
      },
      "source": [
        "num_examples = y_train.shape[0]"
      ],
      "execution_count": 0,
      "outputs": []
    },
    {
      "cell_type": "code",
      "metadata": {
        "id": "DghN3IuhuE6q",
        "colab_type": "code",
        "colab": {}
      },
      "source": [
        "nr_iterations = int(num_examples / size_batch)"
      ],
      "execution_count": 0,
      "outputs": []
    },
    {
      "cell_type": "code",
      "metadata": {
        "id": "UgJqlt5Hvlfe",
        "colab_type": "code",
        "colab": {}
      },
      "source": [
        "index_epochs = 0 # using to track batch"
      ],
      "execution_count": 0,
      "outputs": []
    },
    {
      "cell_type": "code",
      "metadata": {
        "id": "E7fRpFP6vyjM",
        "colab_type": "code",
        "colab": {}
      },
      "source": [
        "def next_batch(batch_size, data, label):\n",
        "  \n",
        "  global index_epochs\n",
        "  global num_examples\n",
        "\n",
        "  start = index_epochs\n",
        "  index_epochs += batch_size\n",
        "  if index_epochs > num_examples:\n",
        "    start = 0\n",
        "    index_epochs = batch_size\n",
        "\n",
        "  end = index_epochs\n",
        "\n",
        "  return data[start:end], label[start:end]"
      ],
      "execution_count": 0,
      "outputs": []
    },
    {
      "cell_type": "markdown",
      "metadata": {
        "id": "i1KtbIUkxzjU",
        "colab_type": "text"
      },
      "source": [
        "##**Training loop**"
      ]
    },
    {
      "cell_type": "code",
      "metadata": {
        "colab_type": "code",
        "outputId": "b367b5df-bfa0-4106-9aef-5c180985cc0f",
        "id": "ELneaB4SE_26",
        "colab": {
          "base_uri": "https://localhost:8080/",
          "height": 903
        }
      },
      "source": [
        "for epoch in range(nr_epochs):\n",
        "  # =============Training data set ==========================\n",
        "\n",
        "  for i in range(nr_iterations):\n",
        "\n",
        "    batch_x, batch_y = next_batch(batch_size=size_batch, data=x_train, label=y_train)\n",
        "    feed_dictionary = {X: batch_x, Y:batch_y}\n",
        "    sess.run(train_step, feed_dict=feed_dictionary)\n",
        "\n",
        "  s, batch_accuracy = sess.run(fetches=[merged_summary, accuracy], feed_dict=feed_dictionary)\n",
        "  train_writer.add_summary(s, epoch)\n",
        "\n",
        "  print(f'Epochs {epoch} \\t Training accuracy {batch_accuracy}')\n",
        "\n",
        "  # =============validation data set ==========================\n",
        "  summary = sess.run(fetches=merged_summary, feed_dict={X: x_val, Y: y_val})\n",
        "  validation_writer.add_summary(summary, epoch)\n",
        "\n",
        "print('training done')"
      ],
      "execution_count": 501,
      "outputs": [
        {
          "output_type": "stream",
          "text": [
            "Epochs 0 \t Training accuracy 0.8629999756813049\n",
            "Epochs 1 \t Training accuracy 0.8809999823570251\n",
            "Epochs 2 \t Training accuracy 0.9179999828338623\n",
            "Epochs 3 \t Training accuracy 0.9620000123977661\n",
            "Epochs 4 \t Training accuracy 0.9739999771118164\n",
            "Epochs 5 \t Training accuracy 0.9760000109672546\n",
            "Epochs 6 \t Training accuracy 0.9769999980926514\n",
            "Epochs 7 \t Training accuracy 0.9789999723434448\n",
            "Epochs 8 \t Training accuracy 0.9800000190734863\n",
            "Epochs 9 \t Training accuracy 0.9800000190734863\n",
            "Epochs 10 \t Training accuracy 0.9819999933242798\n",
            "Epochs 11 \t Training accuracy 0.9850000143051147\n",
            "Epochs 12 \t Training accuracy 0.9860000014305115\n",
            "Epochs 13 \t Training accuracy 0.9850000143051147\n",
            "Epochs 14 \t Training accuracy 0.9879999756813049\n",
            "Epochs 15 \t Training accuracy 0.9890000224113464\n",
            "Epochs 16 \t Training accuracy 0.9890000224113464\n",
            "Epochs 17 \t Training accuracy 0.984000027179718\n",
            "Epochs 18 \t Training accuracy 0.9909999966621399\n",
            "Epochs 19 \t Training accuracy 0.9900000095367432\n",
            "Epochs 20 \t Training accuracy 0.9900000095367432\n",
            "Epochs 21 \t Training accuracy 0.9909999966621399\n",
            "Epochs 22 \t Training accuracy 0.9909999966621399\n",
            "Epochs 23 \t Training accuracy 0.9909999966621399\n",
            "Epochs 24 \t Training accuracy 0.9900000095367432\n",
            "Epochs 25 \t Training accuracy 0.9890000224113464\n",
            "Epochs 26 \t Training accuracy 0.9909999966621399\n",
            "Epochs 27 \t Training accuracy 0.9909999966621399\n",
            "Epochs 28 \t Training accuracy 0.9900000095367432\n",
            "Epochs 29 \t Training accuracy 0.9900000095367432\n",
            "Epochs 30 \t Training accuracy 0.9909999966621399\n",
            "Epochs 31 \t Training accuracy 0.9900000095367432\n",
            "Epochs 32 \t Training accuracy 0.9909999966621399\n",
            "Epochs 33 \t Training accuracy 0.9900000095367432\n",
            "Epochs 34 \t Training accuracy 0.9900000095367432\n",
            "Epochs 35 \t Training accuracy 0.9900000095367432\n",
            "Epochs 36 \t Training accuracy 0.9909999966621399\n",
            "Epochs 37 \t Training accuracy 0.9909999966621399\n",
            "Epochs 38 \t Training accuracy 0.9900000095367432\n",
            "Epochs 39 \t Training accuracy 0.9900000095367432\n",
            "Epochs 40 \t Training accuracy 0.9909999966621399\n",
            "Epochs 41 \t Training accuracy 0.9909999966621399\n",
            "Epochs 42 \t Training accuracy 0.9900000095367432\n",
            "Epochs 43 \t Training accuracy 0.9909999966621399\n",
            "Epochs 44 \t Training accuracy 0.9909999966621399\n",
            "Epochs 45 \t Training accuracy 0.9909999966621399\n",
            "Epochs 46 \t Training accuracy 0.9909999966621399\n",
            "Epochs 47 \t Training accuracy 0.9919999837875366\n",
            "Epochs 48 \t Training accuracy 0.9900000095367432\n",
            "Epochs 49 \t Training accuracy 0.9919999837875366\n",
            "training done\n"
          ],
          "name": "stdout"
        }
      ]
    },
    {
      "cell_type": "markdown",
      "metadata": {
        "id": "Mt-nR7UMOwbk",
        "colab_type": "text"
      },
      "source": [
        "#**Make a Prediction**"
      ]
    },
    {
      "cell_type": "code",
      "metadata": {
        "id": "FNDmMTC4Pf98",
        "colab_type": "code",
        "colab": {
          "base_uri": "https://localhost:8080/",
          "height": 45
        },
        "outputId": "c9d1e785-20aa-48c7-df7d-05ff39a3b279"
      },
      "source": [
        "img = Image.open('/content/drive/My Drive/Machine Learning Neural Network/HandWriting Recognition/MNIST/test_img.png')\n",
        "img"
      ],
      "execution_count": 502,
      "outputs": [
        {
          "output_type": "execute_result",
          "data": {
            "image/png": "[encoded data removed]",
            "text/plain": [
              "<PIL.PngImagePlugin.PngImageFile image mode=RGBA size=28x28 at 0x7F86C7575828>"
            ]
          },
          "metadata": {
            "tags": []
          },
          "execution_count": 502
        }
      ]
    },
    {
      "cell_type": "code",
      "metadata": {
        "id": "Qu93SJhPQFq9",
        "colab_type": "code",
        "colab": {
          "base_uri": "https://localhost:8080/",
          "height": 45
        },
        "outputId": "3c75dd05-8706-4d04-bb98-fd60a11b447a"
      },
      "source": [
        "# convert to grayscale. trained image are balck bacgground with whight digit\n",
        "balck_whight = img.convert('L')\n",
        "balck_whight\n",
        "\n"
      ],
      "execution_count": 503,
      "outputs": [
        {
          "output_type": "execute_result",
          "data": {
            "image/png": "[encoded data removed]",
            "text/plain": [
              "<PIL.Image.Image image mode=L size=28x28 at 0x7F86C7575860>"
            ]
          },
          "metadata": {
            "tags": []
          },
          "execution_count": 503
        }
      ]
    },
    {
      "cell_type": "code",
      "metadata": {
        "id": "Y_FHB91tQ1c6",
        "colab_type": "code",
        "colab": {
          "base_uri": "https://localhost:8080/",
          "height": 34
        },
        "outputId": "e9557374-865b-4bf6-9acf-d4ea774491d2"
      },
      "source": [
        "image_array = np.invert(balck_whight)\n",
        "image_array.shape"
      ],
      "execution_count": 504,
      "outputs": [
        {
          "output_type": "execute_result",
          "data": {
            "text/plain": [
              "(28, 28)"
            ]
          },
          "metadata": {
            "tags": []
          },
          "execution_count": 504
        }
      ]
    },
    {
      "cell_type": "code",
      "metadata": {
        "id": "i9Vmm6ugRme2",
        "colab_type": "code",
        "colab": {
          "base_uri": "https://localhost:8080/",
          "height": 34
        },
        "outputId": "71e21f5e-bc71-430f-99f8-6ba738620cbb"
      },
      "source": [
        "# convert to flantent array\n",
        "test_img = image_array.ravel()\n",
        "test_img.shape"
      ],
      "execution_count": 505,
      "outputs": [
        {
          "output_type": "execute_result",
          "data": {
            "text/plain": [
              "(784,)"
            ]
          },
          "metadata": {
            "tags": []
          },
          "execution_count": 505
        }
      ]
    },
    {
      "cell_type": "code",
      "metadata": {
        "id": "R-K8jsbER_h0",
        "colab_type": "code",
        "colab": {
          "base_uri": "https://localhost:8080/",
          "height": 34
        },
        "outputId": "006f16f6-74f6-4228-bab1-79c7817d9bf9"
      },
      "source": [
        "prediction = sess.run(fetches=tf.argmax(output, axis=1), feed_dict={X:[test_img]})\n",
        "print(f'prediction for test image is {prediction}')"
      ],
      "execution_count": 506,
      "outputs": [
        {
          "output_type": "stream",
          "text": [
            "prediction for test image is [2]\n"
          ],
          "name": "stdout"
        }
      ]
    },
    {
      "cell_type": "markdown",
      "metadata": {
        "id": "jOBKwSqROwnI",
        "colab_type": "text"
      },
      "source": [
        "#**Testing And Evaluation**"
      ]
    },
    {
      "cell_type": "code",
      "metadata": {
        "id": "D288EEGJV0Us",
        "colab_type": "code",
        "colab": {
          "base_uri": "https://localhost:8080/",
          "height": 34
        },
        "outputId": "f872bc54-ecc6-4bc4-c7a2-6ccdfa9fb623"
      },
      "source": [
        "test_accuracy = sess.run(fetches=accuracy, feed_dict={X:x_test, Y:y_test})\n",
        "print(f'Accuracy of test set is {test_accuracy:0.2%}')"
      ],
      "execution_count": 508,
      "outputs": [
        {
          "output_type": "stream",
          "text": [
            "Accuracy of test set is 97.61%\n"
          ],
          "name": "stdout"
        }
      ]
    },
    {
      "cell_type": "markdown",
      "metadata": {
        "id": "akd-5nVsBiu4",
        "colab_type": "text"
      },
      "source": [
        "#**Reset every thing for next run**"
      ]
    },
    {
      "cell_type": "code",
      "metadata": {
        "id": "xZv_KyXG4UQ-",
        "colab_type": "code",
        "colab": {}
      },
      "source": [
        "train_writer.close()\n",
        "validation_writer.close()\n",
        "sess.close()\n",
        "tf.reset_default_graph()"
      ],
      "execution_count": 0,
      "outputs": []
    },
    {
      "cell_type": "markdown",
      "metadata": {
        "id": "5k9I7zzrGwBy",
        "colab_type": "text"
      },
      "source": [
        "#**layer creatin referance. first stage**"
      ]
    },
    {
      "cell_type": "markdown",
      "metadata": {
        "id": "wn5qf6cHHh38",
        "colab_type": "text"
      },
      "source": [
        "first hidden layer"
      ]
    },
    {
      "cell_type": "code",
      "metadata": {
        "id": "XyFXWwuCayFk",
        "colab_type": "code",
        "colab": {}
      },
      "source": [
        "# with tf.name_scope('first_hiden_layer'):\n",
        "\n",
        "#   initial_weight1 = tf.truncated_normal(shape=[TOTAL_NUM_INPUT, n_hidden1], stddev=0.1, seed=42)\n",
        "#   w1 = tf.Variable(initial_value=initial_weight1, name='w1')\n",
        "\n",
        "#   intial_bias1 = tf.constant(value=0.0, shape=[n_hidden1]) \n",
        "#   b1 = tf.Variable(initial_value=intial_bias1, name='b1')\n",
        "\n",
        "#   layer1_in = tf.matmul(X, w1) + b1\n",
        "\n",
        "#   layer1_out = tf.nn.relu(features=layer1_in)"
      ],
      "execution_count": 0,
      "outputs": []
    },
    {
      "cell_type": "markdown",
      "metadata": {
        "id": "0nSslQhoi1FN",
        "colab_type": "text"
      },
      "source": [
        "secound hidden layer"
      ]
    },
    {
      "cell_type": "code",
      "metadata": {
        "colab_type": "code",
        "id": "XHsBHfZrhlqe",
        "colab": {}
      },
      "source": [
        "# with tf.name_scope('secound_hidden_layer'):\n",
        "#   initial_weight2 = tf.truncated_normal(shape=[n_hidden1, n_hidden2], stddev=0.1, seed=42)\n",
        "#   w2 = tf.Variable(initial_value=initial_weight2, name='w2')\n",
        "\n",
        "#   intial_bias2 = tf.constant(value=0.0, shape=[n_hidden2]) \n",
        "#   b2 = tf.Variable(initial_value=intial_bias2, name='b2')\n",
        "\n",
        "#   layer2_in = tf.matmul(layer1_out, w2) + b2\n",
        "\n",
        "#   layer2_out = tf.nn.relu(features=layer2_in)"
      ],
      "execution_count": 0,
      "outputs": []
    },
    {
      "cell_type": "markdown",
      "metadata": {
        "id": "WI41ONr2i71T",
        "colab_type": "text"
      },
      "source": [
        "Third hidden layer"
      ]
    },
    {
      "cell_type": "code",
      "metadata": {
        "colab_type": "code",
        "id": "ix-yRUDUjD72",
        "colab": {}
      },
      "source": [
        "# with tf.name_scope('output_layer'): # hrouping operation together. pretty of graph\n",
        "#   initial_weight3 = tf.truncated_normal(shape=[n_hidden2, NR_CLASSES], stddev=0.1, seed=42)\n",
        "#   w3 = tf.Variable(initial_value=initial_weight3, name='w3')\n",
        "\n",
        "\n",
        "#   intial_bias3 = tf.constant(value=0.0, shape=[NR_CLASSES]) \n",
        "#   b3 = tf.Variable(initial_value=intial_bias3, name='b3')\n",
        "\n",
        "#   layer3_in = tf.matmul(layer2_out, w3) + b3\n",
        "#   output = tf.nn.softmax(layer3_in)"
      ],
      "execution_count": 0,
      "outputs": []
    },
    {
      "cell_type": "code",
      "metadata": {
        "id": "t8kReyypBvRc",
        "colab_type": "code",
        "colab": {}
      },
      "source": [
        ""
      ],
      "execution_count": 0,
      "outputs": []
    }
  ]
}