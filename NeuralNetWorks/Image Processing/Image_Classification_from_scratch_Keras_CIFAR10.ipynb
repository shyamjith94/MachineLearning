{
  "nbformat": 4,
  "nbformat_minor": 0,
  "metadata": {
    "colab": {
      "name": "Image Classification from scratch Keras CIFAR10.ipynb",
      "provenance": [],
      "collapsed_sections": []
    },
    "kernelspec": {
      "name": "python3",
      "display_name": "Python 3"
    },
    "accelerator": "GPU"
  },
  "cells": [
    {
      "cell_type": "markdown",
      "metadata": {
        "id": "iN5gJy-BOszp",
        "colab_type": "text"
      },
      "source": [
        "### **Imports**"
      ]
    },
    {
      "cell_type": "code",
      "metadata": {
        "id": "ytb5Wd2CLtfO",
        "colab_type": "code",
        "colab": {}
      },
      "source": [
        "from numpy.random import seed\n",
        "seed(888)\n",
        "\n",
        "\n",
        "import tensorflow\n",
        "tensorflow.random.set_seed(404)"
      ],
      "execution_count": 0,
      "outputs": []
    },
    {
      "cell_type": "code",
      "metadata": {
        "id": "3p-s3qn3OprN",
        "colab_type": "code",
        "colab": {}
      },
      "source": [
        "import os\n",
        "import numpy as np\n",
        "import tensorflow as tf\n",
        "import datetime\n",
        "\n",
        "import itertools\n",
        "\n",
        "import keras\n",
        "from tensorflow.keras.datasets import cifar10\n",
        "from tensorflow.keras.models import Sequential\n",
        "from tensorflow.keras.layers import Dense, Activation, Dropout\n",
        "\n",
        "from tensorflow.keras.callbacks import TensorBoard\n",
        "from datetime import datetime\n",
        "\n",
        "from sklearn.metrics import confusion_matrix\n",
        "\n",
        "from IPython.display import display\n",
        "from keras.preprocessing.image import array_to_img\n",
        "import matplotlib.pyplot as plt\n",
        "%matplotlib inline"
      ],
      "execution_count": 0,
      "outputs": []
    },
    {
      "cell_type": "markdown",
      "metadata": {
        "id": "wbjmiSwiUD38",
        "colab_type": "text"
      },
      "source": [
        "## **Constants**"
      ]
    },
    {
      "cell_type": "code",
      "metadata": {
        "id": "u6Zierv3UIR-",
        "colab_type": "code",
        "colab": {}
      },
      "source": [
        "# names from website\n",
        "LOD_DIR = 'tensorboard_cifar_logs'\n",
        "LABEL_NAMES = ['Plane', 'Car', 'Bird', 'Cat', 'Deer', 'Dog', 'Frog', 'Horse', 'Ship', 'Truck']\n",
        "IMAGE_WIDTH = 32\n",
        "IMAGE_HEIGHT = 32\n",
        "IMAGE_PIXEL = IMAGE_WIDTH * IMAGE_HEIGHT\n",
        "COLOR_CHANNELS = 3\n",
        "TOTAL_INPUT = IMAGE_PIXEL* COLOR_CHANNELS\n",
        "VALIDATION_SIZE = 10000\n",
        "SMALL_TRAIN_SIZE = 1000\n"
      ],
      "execution_count": 0,
      "outputs": []
    },
    {
      "cell_type": "markdown",
      "metadata": {
        "id": "Aw6pJXDcOryx",
        "colab_type": "text"
      },
      "source": [
        "## **Get Data**"
      ]
    },
    {
      "cell_type": "code",
      "metadata": {
        "id": "FSsX3QMkPN45",
        "colab_type": "code",
        "outputId": "2e8aaf2a-6fb6-4f21-d48d-36a2a587f546",
        "colab": {
          "base_uri": "https://localhost:8080/",
          "height": 52
        }
      },
      "source": [
        "(x_train_all, y_train_all), (x_test, y_test) = cifar10.load_data()"
      ],
      "execution_count": 0,
      "outputs": [
        {
          "output_type": "stream",
          "text": [
            "Downloading data from https://www.cs.toronto.edu/~kriz/cifar-10-python.tar.gz\n",
            "170500096/170498071 [==============================] - 6s 0us/step\n"
          ],
          "name": "stdout"
        }
      ]
    },
    {
      "cell_type": "code",
      "metadata": {
        "id": "HFU2J6LdPdu2",
        "colab_type": "code",
        "outputId": "8ee6f78a-edc6-45bf-86fb-e389208ec686",
        "colab": {
          "base_uri": "https://localhost:8080/",
          "height": 34
        }
      },
      "source": [
        "type(cifar10)"
      ],
      "execution_count": 0,
      "outputs": [
        {
          "output_type": "execute_result",
          "data": {
            "text/plain": [
              "module"
            ]
          },
          "metadata": {
            "tags": []
          },
          "execution_count": 5
        }
      ]
    },
    {
      "cell_type": "markdown",
      "metadata": {
        "id": "5QJ-IDq3Q6rV",
        "colab_type": "text"
      },
      "source": [
        "Explore Data"
      ]
    },
    {
      "cell_type": "code",
      "metadata": {
        "id": "fp_PT4WbQvB6",
        "colab_type": "code",
        "outputId": "ca47581a-f7fd-4bf6-cfba-cee02bdb5e54",
        "colab": {
          "base_uri": "https://localhost:8080/",
          "height": 868
        }
      },
      "source": [
        "x_train_all[0]"
      ],
      "execution_count": 0,
      "outputs": [
        {
          "output_type": "execute_result",
          "data": {
            "text/plain": [
              "array([[[ 59,  62,  63],\n",
              "        [ 43,  46,  45],\n",
              "        [ 50,  48,  43],\n",
              "        ...,\n",
              "        [158, 132, 108],\n",
              "        [152, 125, 102],\n",
              "        [148, 124, 103]],\n",
              "\n",
              "       [[ 16,  20,  20],\n",
              "        [  0,   0,   0],\n",
              "        [ 18,   8,   0],\n",
              "        ...,\n",
              "        [123,  88,  55],\n",
              "        [119,  83,  50],\n",
              "        [122,  87,  57]],\n",
              "\n",
              "       [[ 25,  24,  21],\n",
              "        [ 16,   7,   0],\n",
              "        [ 49,  27,   8],\n",
              "        ...,\n",
              "        [118,  84,  50],\n",
              "        [120,  84,  50],\n",
              "        [109,  73,  42]],\n",
              "\n",
              "       ...,\n",
              "\n",
              "       [[208, 170,  96],\n",
              "        [201, 153,  34],\n",
              "        [198, 161,  26],\n",
              "        ...,\n",
              "        [160, 133,  70],\n",
              "        [ 56,  31,   7],\n",
              "        [ 53,  34,  20]],\n",
              "\n",
              "       [[180, 139,  96],\n",
              "        [173, 123,  42],\n",
              "        [186, 144,  30],\n",
              "        ...,\n",
              "        [184, 148,  94],\n",
              "        [ 97,  62,  34],\n",
              "        [ 83,  53,  34]],\n",
              "\n",
              "       [[177, 144, 116],\n",
              "        [168, 129,  94],\n",
              "        [179, 142,  87],\n",
              "        ...,\n",
              "        [216, 184, 140],\n",
              "        [151, 118,  84],\n",
              "        [123,  92,  72]]], dtype=uint8)"
            ]
          },
          "metadata": {
            "tags": []
          },
          "execution_count": 6
        }
      ]
    },
    {
      "cell_type": "code",
      "metadata": {
        "id": "b66Lodx6Tc98",
        "colab_type": "code",
        "outputId": "13097062-b6c2-43a0-ed86-e9a69ceebb1b",
        "colab": {
          "base_uri": "https://localhost:8080/",
          "height": 49
        }
      },
      "source": [
        "pic = array_to_img(x_train_all[7])\n",
        "display(pic)"
      ],
      "execution_count": 0,
      "outputs": [
        {
          "output_type": "display_data",
          "data": {
            "image/png": "[encoded data removed]",
            "text/plain": [
              "<PIL.Image.Image image mode=RGB size=32x32 at 0x7F589109D828>"
            ]
          },
          "metadata": {
            "tags": []
          }
        }
      ]
    },
    {
      "cell_type": "code",
      "metadata": {
        "id": "d0gYcM1nTqas",
        "colab_type": "code",
        "outputId": "4ab7dbfd-98d2-42bf-bedd-3648a608ae96",
        "colab": {
          "base_uri": "https://localhost:8080/",
          "height": 34
        }
      },
      "source": [
        "y_train_all.shape"
      ],
      "execution_count": 0,
      "outputs": [
        {
          "output_type": "execute_result",
          "data": {
            "text/plain": [
              "(50000, 1)"
            ]
          },
          "metadata": {
            "tags": []
          },
          "execution_count": 8
        }
      ]
    },
    {
      "cell_type": "code",
      "metadata": {
        "id": "rlJzpV2fUzib",
        "colab_type": "code",
        "outputId": "77e227ba-8181-4885-9b17-7ae16dfadcf1",
        "colab": {
          "base_uri": "https://localhost:8080/",
          "height": 34
        }
      },
      "source": [
        "y_train_all[7][0]"
      ],
      "execution_count": 0,
      "outputs": [
        {
          "output_type": "execute_result",
          "data": {
            "text/plain": [
              "7"
            ]
          },
          "metadata": {
            "tags": []
          },
          "execution_count": 9
        }
      ]
    },
    {
      "cell_type": "code",
      "metadata": {
        "id": "n3EE8FHJTts1",
        "colab_type": "code",
        "outputId": "ad27cfcd-e2ef-46d2-d65f-fd73e183842f",
        "colab": {
          "base_uri": "https://localhost:8080/",
          "height": 34
        }
      },
      "source": [
        "LABEL_NAMES[y_train_all[7][0]]"
      ],
      "execution_count": 0,
      "outputs": [
        {
          "output_type": "execute_result",
          "data": {
            "text/plain": [
              "'Horse'"
            ]
          },
          "metadata": {
            "tags": []
          },
          "execution_count": 10
        }
      ]
    },
    {
      "cell_type": "code",
      "metadata": {
        "id": "fpQ4ICxWUrAV",
        "colab_type": "code",
        "outputId": "3800e0a3-505f-4475-c77a-f59a8b6d3762",
        "colab": {
          "base_uri": "https://localhost:8080/",
          "height": 285
        }
      },
      "source": [
        "plt.imshow(x_train_all[4])\n",
        "# Adding label names\n",
        "plt.xlabel(LABEL_NAMES[y_train_all[4][0]], fontsize=15)\n",
        "plt.show()"
      ],
      "execution_count": 0,
      "outputs": [
        {
          "output_type": "display_data",
          "data": {
            "image/png": "[encoded data removed]",
            "text/plain": [
              "<Figure size 432x288 with 1 Axes>"
            ]
          },
          "metadata": {
            "tags": []
          }
        }
      ]
    },
    {
      "cell_type": "code",
      "metadata": {
        "id": "5zzmOlSoVIg9",
        "colab_type": "code",
        "outputId": "9b756025-38ed-444c-f821-13617d8250ec",
        "colab": {
          "base_uri": "https://localhost:8080/",
          "height": 121
        }
      },
      "source": [
        "plt.figure(figsize=[15,5])\n",
        "for i in range(10):\n",
        "  plt.subplot(1, 10, i+1)\n",
        "  plt.imshow(x_train_all[i])\n",
        "  plt.yticks([])\n",
        "  plt.xticks([])\n",
        "  # Adding label names\n",
        "  plt.xlabel(LABEL_NAMES[y_train_all[i][0]], fontsize=15)"
      ],
      "execution_count": 0,
      "outputs": [
        {
          "output_type": "display_data",
          "data": {
            "image/png": "[encoded data removed]",
            "text/plain": [
              "<Figure size 1080x360 with 10 Axes>"
            ]
          },
          "metadata": {
            "tags": []
          }
        }
      ]
    },
    {
      "cell_type": "code",
      "metadata": {
        "id": "q5YXahNPaJYI",
        "colab_type": "code",
        "colab": {}
      },
      "source": [
        "numof_images, x, y, c  = x_train_all.shape"
      ],
      "execution_count": 0,
      "outputs": []
    },
    {
      "cell_type": "code",
      "metadata": {
        "id": "VLvYR5wJgiR-",
        "colab_type": "code",
        "outputId": "e5923ec8-26ea-4725-d54d-0039e8afbcba",
        "colab": {
          "base_uri": "https://localhost:8080/",
          "height": 34
        }
      },
      "source": [
        "print(f'images = {numof_images} \\t| width = {x} \\t|height={y} \\t|chanel = {c}')"
      ],
      "execution_count": 0,
      "outputs": [
        {
          "output_type": "stream",
          "text": [
            "images = 50000 \t| width = 32 \t|height=32 \t|chanel = 3\n"
          ],
          "name": "stdout"
        }
      ]
    },
    {
      "cell_type": "code",
      "metadata": {
        "id": "5hP6xCSOgj7v",
        "colab_type": "code",
        "outputId": "b2a665af-8221-48a7-9729-c411ac00d714",
        "colab": {
          "base_uri": "https://localhost:8080/",
          "height": 34
        }
      },
      "source": [
        "x_test.shape"
      ],
      "execution_count": 0,
      "outputs": [
        {
          "output_type": "execute_result",
          "data": {
            "text/plain": [
              "(10000, 32, 32, 3)"
            ]
          },
          "metadata": {
            "tags": []
          },
          "execution_count": 15
        }
      ]
    },
    {
      "cell_type": "markdown",
      "metadata": {
        "id": "srCcxVDyhkhV",
        "colab_type": "text"
      },
      "source": [
        "# Preprocessing Data"
      ]
    },
    {
      "cell_type": "code",
      "metadata": {
        "id": "f6q1RCrXhf_A",
        "colab_type": "code",
        "outputId": "f34faf20-1425-47d4-b111-5668d2d4a6f7",
        "colab": {
          "base_uri": "https://localhost:8080/",
          "height": 34
        }
      },
      "source": [
        "# stored value of pixel is\n",
        "x_train_all[0][0][0] # its 8bit unsigned int"
      ],
      "execution_count": 0,
      "outputs": [
        {
          "output_type": "execute_result",
          "data": {
            "text/plain": [
              "array([59, 62, 63], dtype=uint8)"
            ]
          },
          "metadata": {
            "tags": []
          },
          "execution_count": 16
        }
      ]
    },
    {
      "cell_type": "code",
      "metadata": {
        "id": "ecDZzpUuiKkR",
        "colab_type": "code",
        "colab": {}
      },
      "source": [
        "x_train_all, x_test = x_train_all/ 255.0, x_test / 255.0 # 255 is the largest value of RGB combination"
      ],
      "execution_count": 0,
      "outputs": []
    },
    {
      "cell_type": "code",
      "metadata": {
        "id": "MNMpcFKJioW8",
        "colab_type": "code",
        "outputId": "54ec5df1-5a4d-45e3-a1b1-56f143512229",
        "colab": {
          "base_uri": "https://localhost:8080/",
          "height": 34
        }
      },
      "source": [
        "x_train_all = x_train_all.reshape(x_train_all.shape[0], TOTAL_INPUT)\n",
        "x_train_all.shape"
      ],
      "execution_count": 0,
      "outputs": [
        {
          "output_type": "execute_result",
          "data": {
            "text/plain": [
              "(50000, 3072)"
            ]
          },
          "metadata": {
            "tags": []
          },
          "execution_count": 18
        }
      ]
    },
    {
      "cell_type": "code",
      "metadata": {
        "id": "ip1UybzpjqpB",
        "colab_type": "code",
        "outputId": "5e135d95-d70a-408f-eb93-738c139584c3",
        "colab": {
          "base_uri": "https://localhost:8080/",
          "height": 34
        }
      },
      "source": [
        "x_test.shape\n",
        "x_test = x_test.reshape(x_test.shape[0], TOTAL_INPUT)\n",
        "x_test.shape"
      ],
      "execution_count": 0,
      "outputs": [
        {
          "output_type": "execute_result",
          "data": {
            "text/plain": [
              "(10000, 3072)"
            ]
          },
          "metadata": {
            "tags": []
          },
          "execution_count": 19
        }
      ]
    },
    {
      "cell_type": "code",
      "metadata": {
        "id": "do3SlQ-TlC7Q",
        "colab_type": "code",
        "outputId": "de8d28ec-0e09-40f2-9bb0-13a809ed8341",
        "colab": {
          "base_uri": "https://localhost:8080/",
          "height": 34
        }
      },
      "source": [
        "# validation set\n",
        "x_val = x_train_all[:VALIDATION_SIZE]\n",
        "y_val = y_train_all[:VALIDATION_SIZE]\n",
        "x_val.shape"
      ],
      "execution_count": 0,
      "outputs": [
        {
          "output_type": "execute_result",
          "data": {
            "text/plain": [
              "(10000, 3072)"
            ]
          },
          "metadata": {
            "tags": []
          },
          "execution_count": 20
        }
      ]
    },
    {
      "cell_type": "code",
      "metadata": {
        "id": "QjCujJSZmc3b",
        "colab_type": "code",
        "outputId": "5a6f97d3-8493-44af-aae9-877c8737115f",
        "colab": {
          "base_uri": "https://localhost:8080/",
          "height": 34
        }
      },
      "source": [
        "# trainning set\n",
        "x_train = x_train_all[VALIDATION_SIZE:]\n",
        "y_train = y_train_all[VALIDATION_SIZE:]\n",
        "x_train.shape\n"
      ],
      "execution_count": 0,
      "outputs": [
        {
          "output_type": "execute_result",
          "data": {
            "text/plain": [
              "(40000, 3072)"
            ]
          },
          "metadata": {
            "tags": []
          },
          "execution_count": 21
        }
      ]
    },
    {
      "cell_type": "markdown",
      "metadata": {
        "id": "RHhYiZ9aoU_2",
        "colab_type": "text"
      },
      "source": [
        "### **Create a small dataset(for illutration)**\n",
        "\n",
        "\n"
      ]
    },
    {
      "cell_type": "code",
      "metadata": {
        "id": "8Hem7uLfoUK6",
        "colab_type": "code",
        "colab": {}
      },
      "source": [
        "x_train_xs = x_train[:SMALL_TRAIN_SIZE]\n",
        "y_train_xs = y_train[:SMALL_TRAIN_SIZE]"
      ],
      "execution_count": 0,
      "outputs": []
    },
    {
      "cell_type": "markdown",
      "metadata": {
        "id": "QZ2Wb99fea7h",
        "colab_type": "text"
      },
      "source": [
        "## **Define Neural Network using keras**\n",
        "---\n",
        "\n",
        "\n",
        "\n",
        "\n"
      ]
    },
    {
      "cell_type": "code",
      "metadata": {
        "id": "mJ0Y2UE6nSsF",
        "colab_type": "code",
        "colab": {}
      },
      "source": [
        "model_1 = Sequential([\n",
        "                      Dense(units=128, input_dim=TOTAL_INPUT, activation='relu', name='m1_hidden1'),# input layer\n",
        "                      Dense(units=64, activation='relu', name='m1_hidden2'), # input layer\n",
        "                      Dense(16, activation='relu', name='m1_hidden3'),  # input layer\n",
        "                      Dense(10, activation='softmax', name='m1_output') # output layer\n",
        "])"
      ],
      "execution_count": 0,
      "outputs": []
    },
    {
      "cell_type": "code",
      "metadata": {
        "id": "YS_R-YLL_wKa",
        "colab_type": "code",
        "colab": {}
      },
      "source": [
        "# regulization \n",
        "model_2 = Sequential()\n",
        "model_2.add(Dropout(0.2, seed=42, input_shape=(TOTAL_INPUT, ))) # dropout technique\n",
        "model_2.add(Dense(128, activation='relu', name='m2_hidden1'))\n",
        "model_2.add(Dense(64, activation='relu', name='m2_hidden2'))\n",
        "model_2.add(Dense(16, activation='relu', name='m2_hidden3'))\n",
        "model_2.add(Dense(10, activation='softmax', name='m2_output'))"
      ],
      "execution_count": 0,
      "outputs": []
    },
    {
      "cell_type": "code",
      "metadata": {
        "id": "WQGAZYbIQzfT",
        "colab_type": "code",
        "colab": {}
      },
      "source": [
        "model_3 = Sequential()\n",
        "model_3.add(Dropout(0.2, seed=42, input_shape=(TOTAL_INPUT, ))) # dropout technique\n",
        "model_3.add(Dense(128, activation='relu', name='m3_hidden_1'))\n",
        "model_3.add(Dropout(0.2, seed=42))\n",
        "model_3.add(Dense(64, activation='relu', name='m3_hidden2'))\n",
        "model_3.add(Dense(16, activation='relu', name='m3_hidden3'))\n",
        "model_3.add(Dense(10, activation='softmax', name='m3_output'))"
      ],
      "execution_count": 0,
      "outputs": []
    },
    {
      "cell_type": "code",
      "metadata": {
        "id": "B9-2c7F1oFa-",
        "colab_type": "code",
        "outputId": "092f96cc-9074-4603-e49a-9591aeb4c441",
        "colab": {
          "base_uri": "https://localhost:8080/",
          "height": 34
        }
      },
      "source": [
        "type(model_1)"
      ],
      "execution_count": 0,
      "outputs": [
        {
          "output_type": "execute_result",
          "data": {
            "text/plain": [
              "tensorflow.python.keras.engine.sequential.Sequential"
            ]
          },
          "metadata": {
            "tags": []
          },
          "execution_count": 26
        }
      ]
    },
    {
      "cell_type": "markdown",
      "metadata": {
        "id": "FiFwsJlzl0b6",
        "colab_type": "text"
      },
      "source": [
        "## **Complie Model**"
      ]
    },
    {
      "cell_type": "code",
      "metadata": {
        "id": "VmWQHAHgCKHa",
        "colab_type": "code",
        "colab": {}
      },
      "source": [
        "model_2.compile(\n",
        "    optimizer='adam', loss='sparse_categorical_crossentropy', metrics=['accuracy'])"
      ],
      "execution_count": 0,
      "outputs": []
    },
    {
      "cell_type": "code",
      "metadata": {
        "id": "3WetPQY5SbyD",
        "colab_type": "code",
        "colab": {}
      },
      "source": [
        "model_3.compile(\n",
        "    optimizer='adam', loss='sparse_categorical_crossentropy', metrics=['accuracy'])"
      ],
      "execution_count": 0,
      "outputs": []
    },
    {
      "cell_type": "code",
      "metadata": {
        "id": "H8kdpm40o1pz",
        "colab_type": "code",
        "colab": {}
      },
      "source": [
        "model_1.compile(\n",
        "    optimizer='adam', loss='sparse_categorical_crossentropy', metrics=['accuracy']\n",
        ")"
      ],
      "execution_count": 0,
      "outputs": []
    },
    {
      "cell_type": "code",
      "metadata": {
        "id": "Ot4cEvsDoBYe",
        "colab_type": "code",
        "outputId": "8d1e7fb5-7ebb-4638-a064-65f338cea116",
        "colab": {
          "base_uri": "https://localhost:8080/",
          "height": 295
        }
      },
      "source": [
        "# layer description\n",
        "model_1.summary()"
      ],
      "execution_count": 0,
      "outputs": [
        {
          "output_type": "stream",
          "text": [
            "Model: \"sequential\"\n",
            "_________________________________________________________________\n",
            "Layer (type)                 Output Shape              Param #   \n",
            "=================================================================\n",
            "m1_hidden1 (Dense)           (None, 128)               393344    \n",
            "_________________________________________________________________\n",
            "m1_hidden2 (Dense)           (None, 64)                8256      \n",
            "_________________________________________________________________\n",
            "m1_hidden3 (Dense)           (None, 16)                1040      \n",
            "_________________________________________________________________\n",
            "m1_output (Dense)            (None, 10)                170       \n",
            "=================================================================\n",
            "Total params: 402,810\n",
            "Trainable params: 402,810\n",
            "Non-trainable params: 0\n",
            "_________________________________________________________________\n"
          ],
          "name": "stdout"
        }
      ]
    },
    {
      "cell_type": "code",
      "metadata": {
        "id": "4CRBoskVCg9F",
        "colab_type": "code",
        "outputId": "0e8e5093-5ff4-4302-9ad7-cc51d0b7c2eb",
        "colab": {
          "base_uri": "https://localhost:8080/",
          "height": 330
        }
      },
      "source": [
        "model_2.summary()"
      ],
      "execution_count": 0,
      "outputs": [
        {
          "output_type": "stream",
          "text": [
            "Model: \"sequential_1\"\n",
            "_________________________________________________________________\n",
            "Layer (type)                 Output Shape              Param #   \n",
            "=================================================================\n",
            "dropout (Dropout)            (None, 3072)              0         \n",
            "_________________________________________________________________\n",
            "m2_hidden1 (Dense)           (None, 128)               393344    \n",
            "_________________________________________________________________\n",
            "m2_hidden2 (Dense)           (None, 64)                8256      \n",
            "_________________________________________________________________\n",
            "m2_hidden3 (Dense)           (None, 16)                1040      \n",
            "_________________________________________________________________\n",
            "m2_output (Dense)            (None, 10)                170       \n",
            "=================================================================\n",
            "Total params: 402,810\n",
            "Trainable params: 402,810\n",
            "Non-trainable params: 0\n",
            "_________________________________________________________________\n"
          ],
          "name": "stdout"
        }
      ]
    },
    {
      "cell_type": "code",
      "metadata": {
        "id": "NWyoyvkcm2jf",
        "colab_type": "code",
        "outputId": "9d77b706-acaa-4c44-be32-76470181550a",
        "colab": {
          "base_uri": "https://localhost:8080/",
          "height": 34
        }
      },
      "source": [
        "first_lyaer = 32*32*3*128 + 128 # 128 bias\n",
        "second_lyaer = 128*64 + 64 # 64 bias\n",
        "third_layer = 64*16 + 16 # 16 bias\n",
        "output_layer = 16*10+10 # 10 bias\n",
        "print(f'first layer {first_lyaer}\\t second layer {second_lyaer}\\t third layer {third_layer}\\t putput layer {output_layer}\\t total {first_lyaer+second_lyaer+third_layer+output_layer}')\n"
      ],
      "execution_count": 0,
      "outputs": [
        {
          "output_type": "stream",
          "text": [
            "first layer 393344\t second layer 8256\t third layer 1040\t putput layer 170\t total 402810\n"
          ],
          "name": "stdout"
        }
      ]
    },
    {
      "cell_type": "markdown",
      "metadata": {
        "id": "9OwfgJKetGUP",
        "colab_type": "text"
      },
      "source": [
        "## **Tensorboard (visualizing learning)**"
      ]
    },
    {
      "cell_type": "code",
      "metadata": {
        "id": "Pz6qQZ8xoag8",
        "colab_type": "code",
        "colab": {}
      },
      "source": [
        "def get_tensorboard(model_name):\n",
        "  folder_name = f'{model_name} at {datetime.now().strftime(\"%Y-%d-%m %H:%M\")}'\n",
        "  LOG_PATH = '/content/drive/My Drive/Machine Learning Neural Network/Image Processing'\n",
        "  dir_path = os.path.join(LOG_PATH, folder_name)\n",
        "  try:\n",
        "    os.makedirs(dir_path)\n",
        "  except OSError as err:\n",
        "    print(err.strerror)\n",
        "  else:\n",
        "    print('Sucessfully created Folder')\n",
        "  return TensorBoard(log_dir=dir_path)\n",
        "\n"
      ],
      "execution_count": 0,
      "outputs": []
    },
    {
      "cell_type": "markdown",
      "metadata": {
        "id": "mnklLWlWMrFU",
        "colab_type": "text"
      },
      "source": [
        "## **Fit Model**"
      ]
    },
    {
      "cell_type": "code",
      "metadata": {
        "id": "-RpwcWp6mg5Z",
        "colab_type": "code",
        "colab": {}
      },
      "source": [
        "sample_per_batch = 1000"
      ],
      "execution_count": 0,
      "outputs": []
    },
    {
      "cell_type": "code",
      "metadata": {
        "id": "uwjsWdIfLnoS",
        "colab_type": "code",
        "outputId": "df2c00f3-e9d5-4524-c021-083a2ceab15b",
        "colab": {
          "base_uri": "https://localhost:8080/",
          "height": 1000
        }
      },
      "source": [
        "%%time\n",
        "# epochs using trainingmodel. for random accuracy\n",
        "nr_epochs = 150\n",
        "model_1.fit(x_train_xs, y_train_xs, batch_size=sample_per_batch, epochs=nr_epochs,\n",
        "            callbacks=get_tensorboard(model_name='model 1'), validation_schema=(x_val, y_val))"
      ],
      "execution_count": 0,
      "outputs": [
        {
          "output_type": "stream",
          "text": [
            "Sucessfully created Folder\n",
            "Epoch 1/150\n",
            "1/1 [==============================] - 0s 8ms/step - loss: 2.4108 - accuracy: 0.0960\n",
            "Epoch 2/150\n",
            "1/1 [==============================] - 0s 6ms/step - loss: 2.5816 - accuracy: 0.1210\n",
            "Epoch 3/150\n",
            "1/1 [==============================] - 0s 5ms/step - loss: 2.5618 - accuracy: 0.1130\n",
            "Epoch 4/150\n",
            "1/1 [==============================] - 0s 5ms/step - loss: 2.3329 - accuracy: 0.0950\n",
            "Epoch 5/150\n",
            "1/1 [==============================] - 0s 4ms/step - loss: 2.3703 - accuracy: 0.1170\n",
            "Epoch 6/150\n",
            "1/1 [==============================] - 0s 4ms/step - loss: 2.3183 - accuracy: 0.0980\n",
            "Epoch 7/150\n",
            "1/1 [==============================] - 0s 5ms/step - loss: 2.3013 - accuracy: 0.1460\n",
            "Epoch 8/150\n",
            "1/1 [==============================] - 0s 3ms/step - loss: 2.2914 - accuracy: 0.1620\n",
            "Epoch 9/150\n",
            "1/1 [==============================] - 0s 4ms/step - loss: 2.2743 - accuracy: 0.1460\n",
            "Epoch 10/150\n",
            "1/1 [==============================] - 0s 4ms/step - loss: 2.2739 - accuracy: 0.1420\n",
            "Epoch 11/150\n",
            "1/1 [==============================] - 0s 5ms/step - loss: 2.2692 - accuracy: 0.1510\n",
            "Epoch 12/150\n",
            "1/1 [==============================] - 0s 4ms/step - loss: 2.2615 - accuracy: 0.1350\n",
            "Epoch 13/150\n",
            "1/1 [==============================] - 0s 4ms/step - loss: 2.2543 - accuracy: 0.1340\n",
            "Epoch 14/150\n",
            "1/1 [==============================] - 0s 4ms/step - loss: 2.2512 - accuracy: 0.1530\n",
            "Epoch 15/150\n",
            "1/1 [==============================] - 0s 3ms/step - loss: 2.2426 - accuracy: 0.1430\n",
            "Epoch 16/150\n",
            "1/1 [==============================] - 0s 4ms/step - loss: 2.2381 - accuracy: 0.1410\n",
            "Epoch 17/150\n",
            "1/1 [==============================] - 0s 4ms/step - loss: 2.2342 - accuracy: 0.1450\n",
            "Epoch 18/150\n",
            "1/1 [==============================] - 0s 5ms/step - loss: 2.2211 - accuracy: 0.1500\n",
            "Epoch 19/150\n",
            "1/1 [==============================] - 0s 5ms/step - loss: 2.2115 - accuracy: 0.1630\n",
            "Epoch 20/150\n",
            "1/1 [==============================] - 0s 4ms/step - loss: 2.2052 - accuracy: 0.1590\n",
            "Epoch 21/150\n",
            "1/1 [==============================] - 0s 3ms/step - loss: 2.1983 - accuracy: 0.1590\n",
            "Epoch 22/150\n",
            "1/1 [==============================] - 0s 5ms/step - loss: 2.1930 - accuracy: 0.1510\n",
            "Epoch 23/150\n",
            "1/1 [==============================] - 0s 5ms/step - loss: 2.1851 - accuracy: 0.1550\n",
            "Epoch 24/150\n",
            "1/1 [==============================] - 0s 5ms/step - loss: 2.1764 - accuracy: 0.1700\n",
            "Epoch 25/150\n",
            "1/1 [==============================] - 0s 4ms/step - loss: 2.1712 - accuracy: 0.1880\n",
            "Epoch 26/150\n",
            "1/1 [==============================] - 0s 4ms/step - loss: 2.1652 - accuracy: 0.1970\n",
            "Epoch 27/150\n",
            "1/1 [==============================] - 0s 6ms/step - loss: 2.1574 - accuracy: 0.1930\n",
            "Epoch 28/150\n",
            "1/1 [==============================] - 0s 4ms/step - loss: 2.1518 - accuracy: 0.1910\n",
            "Epoch 29/150\n",
            "1/1 [==============================] - 0s 4ms/step - loss: 2.1456 - accuracy: 0.2020\n",
            "Epoch 30/150\n",
            "1/1 [==============================] - 0s 6ms/step - loss: 2.1378 - accuracy: 0.1960\n",
            "Epoch 31/150\n",
            "1/1 [==============================] - 0s 7ms/step - loss: 2.1301 - accuracy: 0.1990\n",
            "Epoch 32/150\n",
            "1/1 [==============================] - 0s 5ms/step - loss: 2.1231 - accuracy: 0.2010\n",
            "Epoch 33/150\n",
            "1/1 [==============================] - 0s 3ms/step - loss: 2.1163 - accuracy: 0.1960\n",
            "Epoch 34/150\n",
            "1/1 [==============================] - 0s 4ms/step - loss: 2.1105 - accuracy: 0.1960\n",
            "Epoch 35/150\n",
            "1/1 [==============================] - 0s 6ms/step - loss: 2.1037 - accuracy: 0.1940\n",
            "Epoch 36/150\n",
            "1/1 [==============================] - 0s 7ms/step - loss: 2.0959 - accuracy: 0.1890\n",
            "Epoch 37/150\n",
            "1/1 [==============================] - 0s 5ms/step - loss: 2.0884 - accuracy: 0.2030\n",
            "Epoch 38/150\n",
            "1/1 [==============================] - 0s 7ms/step - loss: 2.0803 - accuracy: 0.2100\n",
            "Epoch 39/150\n",
            "1/1 [==============================] - 0s 5ms/step - loss: 2.0714 - accuracy: 0.2240\n",
            "Epoch 40/150\n",
            "1/1 [==============================] - 0s 6ms/step - loss: 2.0619 - accuracy: 0.2300\n",
            "Epoch 41/150\n",
            "1/1 [==============================] - 0s 8ms/step - loss: 2.0517 - accuracy: 0.2380\n",
            "Epoch 42/150\n",
            "1/1 [==============================] - 0s 6ms/step - loss: 2.0419 - accuracy: 0.2390\n",
            "Epoch 43/150\n",
            "1/1 [==============================] - 0s 4ms/step - loss: 2.0342 - accuracy: 0.2390\n",
            "Epoch 44/150\n",
            "1/1 [==============================] - 0s 4ms/step - loss: 2.0237 - accuracy: 0.2480\n",
            "Epoch 45/150\n",
            "1/1 [==============================] - 0s 5ms/step - loss: 2.0168 - accuracy: 0.2470\n",
            "Epoch 46/150\n",
            "1/1 [==============================] - 0s 7ms/step - loss: 2.0090 - accuracy: 0.2560\n",
            "Epoch 47/150\n",
            "1/1 [==============================] - 0s 4ms/step - loss: 2.0017 - accuracy: 0.2380\n",
            "Epoch 48/150\n",
            "1/1 [==============================] - 0s 5ms/step - loss: 2.0003 - accuracy: 0.2640\n",
            "Epoch 49/150\n",
            "1/1 [==============================] - 0s 5ms/step - loss: 2.0009 - accuracy: 0.2470\n",
            "Epoch 50/150\n",
            "1/1 [==============================] - 0s 4ms/step - loss: 1.9801 - accuracy: 0.2800\n",
            "Epoch 51/150\n",
            "1/1 [==============================] - 0s 4ms/step - loss: 1.9624 - accuracy: 0.2800\n",
            "Epoch 52/150\n",
            "1/1 [==============================] - 0s 5ms/step - loss: 1.9580 - accuracy: 0.2750\n",
            "Epoch 53/150\n",
            "1/1 [==============================] - 0s 5ms/step - loss: 1.9547 - accuracy: 0.2910\n",
            "Epoch 54/150\n",
            "1/1 [==============================] - 0s 5ms/step - loss: 1.9426 - accuracy: 0.2780\n",
            "Epoch 55/150\n",
            "1/1 [==============================] - 0s 4ms/step - loss: 1.9289 - accuracy: 0.3000\n",
            "Epoch 56/150\n",
            "1/1 [==============================] - 0s 4ms/step - loss: 1.9250 - accuracy: 0.3150\n",
            "Epoch 57/150\n",
            "1/1 [==============================] - 0s 5ms/step - loss: 1.9215 - accuracy: 0.2930\n",
            "Epoch 58/150\n",
            "1/1 [==============================] - 0s 5ms/step - loss: 1.9085 - accuracy: 0.3160\n",
            "Epoch 59/150\n",
            "1/1 [==============================] - 0s 4ms/step - loss: 1.8985 - accuracy: 0.3160\n",
            "Epoch 60/150\n",
            "1/1 [==============================] - 0s 5ms/step - loss: 1.8947 - accuracy: 0.3080\n",
            "Epoch 61/150\n",
            "1/1 [==============================] - 0s 6ms/step - loss: 1.8869 - accuracy: 0.3210\n",
            "Epoch 62/150\n",
            "1/1 [==============================] - 0s 5ms/step - loss: 1.8753 - accuracy: 0.3270\n",
            "Epoch 63/150\n",
            "1/1 [==============================] - 0s 6ms/step - loss: 1.8667 - accuracy: 0.3310\n",
            "Epoch 64/150\n",
            "1/1 [==============================] - 0s 6ms/step - loss: 1.8614 - accuracy: 0.3410\n",
            "Epoch 65/150\n",
            "1/1 [==============================] - 0s 4ms/step - loss: 1.8567 - accuracy: 0.3370\n",
            "Epoch 66/150\n",
            "1/1 [==============================] - 0s 3ms/step - loss: 1.8477 - accuracy: 0.3440\n",
            "Epoch 67/150\n",
            "1/1 [==============================] - 0s 4ms/step - loss: 1.8376 - accuracy: 0.3460\n",
            "Epoch 68/150\n",
            "1/1 [==============================] - 0s 5ms/step - loss: 1.8295 - accuracy: 0.3460\n",
            "Epoch 69/150\n",
            "1/1 [==============================] - 0s 4ms/step - loss: 1.8244 - accuracy: 0.3450\n",
            "Epoch 70/150\n",
            "1/1 [==============================] - 0s 4ms/step - loss: 1.8193 - accuracy: 0.3560\n",
            "Epoch 71/150\n",
            "1/1 [==============================] - 0s 4ms/step - loss: 1.8126 - accuracy: 0.3500\n",
            "Epoch 72/150\n",
            "1/1 [==============================] - 0s 6ms/step - loss: 1.8050 - accuracy: 0.3590\n",
            "Epoch 73/150\n",
            "1/1 [==============================] - 0s 8ms/step - loss: 1.7965 - accuracy: 0.3590\n",
            "Epoch 74/150\n",
            "1/1 [==============================] - 0s 4ms/step - loss: 1.7883 - accuracy: 0.3660\n",
            "Epoch 75/150\n",
            "1/1 [==============================] - 0s 4ms/step - loss: 1.7807 - accuracy: 0.3670\n",
            "Epoch 76/150\n",
            "1/1 [==============================] - 0s 4ms/step - loss: 1.7742 - accuracy: 0.3740\n",
            "Epoch 77/150\n",
            "1/1 [==============================] - 0s 5ms/step - loss: 1.7683 - accuracy: 0.3770\n",
            "Epoch 78/150\n",
            "1/1 [==============================] - 0s 5ms/step - loss: 1.7628 - accuracy: 0.3730\n",
            "Epoch 79/150\n",
            "1/1 [==============================] - 0s 3ms/step - loss: 1.7587 - accuracy: 0.3870\n",
            "Epoch 80/150\n",
            "1/1 [==============================] - 0s 5ms/step - loss: 1.7576 - accuracy: 0.3780\n",
            "Epoch 81/150\n",
            "1/1 [==============================] - 0s 5ms/step - loss: 1.7627 - accuracy: 0.3720\n",
            "Epoch 82/150\n",
            "1/1 [==============================] - 0s 5ms/step - loss: 1.7614 - accuracy: 0.3750\n",
            "Epoch 83/150\n",
            "1/1 [==============================] - 0s 5ms/step - loss: 1.7512 - accuracy: 0.3780\n",
            "Epoch 84/150\n",
            "1/1 [==============================] - 0s 6ms/step - loss: 1.7262 - accuracy: 0.3950\n",
            "Epoch 85/150\n",
            "1/1 [==============================] - 0s 4ms/step - loss: 1.7171 - accuracy: 0.3960\n",
            "Epoch 86/150\n",
            "1/1 [==============================] - 0s 4ms/step - loss: 1.7201 - accuracy: 0.3970\n",
            "Epoch 87/150\n",
            "1/1 [==============================] - 0s 5ms/step - loss: 1.7201 - accuracy: 0.3900\n",
            "Epoch 88/150\n",
            "1/1 [==============================] - 0s 5ms/step - loss: 1.7054 - accuracy: 0.4080\n",
            "Epoch 89/150\n",
            "1/1 [==============================] - 0s 3ms/step - loss: 1.6916 - accuracy: 0.4130\n",
            "Epoch 90/150\n",
            "1/1 [==============================] - 0s 4ms/step - loss: 1.6892 - accuracy: 0.4090\n",
            "Epoch 91/150\n",
            "1/1 [==============================] - 0s 5ms/step - loss: 1.6940 - accuracy: 0.4060\n",
            "Epoch 92/150\n",
            "1/1 [==============================] - 0s 7ms/step - loss: 1.6879 - accuracy: 0.4040\n",
            "Epoch 93/150\n",
            "1/1 [==============================] - 0s 3ms/step - loss: 1.6724 - accuracy: 0.4220\n",
            "Epoch 94/150\n",
            "1/1 [==============================] - 0s 3ms/step - loss: 1.6601 - accuracy: 0.4300\n",
            "Epoch 95/150\n",
            "1/1 [==============================] - 0s 6ms/step - loss: 1.6592 - accuracy: 0.4220\n",
            "Epoch 96/150\n",
            "1/1 [==============================] - 0s 5ms/step - loss: 1.6641 - accuracy: 0.4260\n",
            "Epoch 97/150\n",
            "1/1 [==============================] - 0s 5ms/step - loss: 1.6585 - accuracy: 0.4240\n",
            "Epoch 98/150\n",
            "1/1 [==============================] - 0s 5ms/step - loss: 1.6424 - accuracy: 0.4420\n",
            "Epoch 99/150\n",
            "1/1 [==============================] - 0s 4ms/step - loss: 1.6270 - accuracy: 0.4480\n",
            "Epoch 100/150\n",
            "1/1 [==============================] - 0s 3ms/step - loss: 1.6295 - accuracy: 0.4350\n",
            "Epoch 101/150\n",
            "1/1 [==============================] - 0s 3ms/step - loss: 1.6302 - accuracy: 0.4370\n",
            "Epoch 102/150\n",
            "1/1 [==============================] - 0s 4ms/step - loss: 1.6184 - accuracy: 0.4560\n",
            "Epoch 103/150\n",
            "1/1 [==============================] - 0s 4ms/step - loss: 1.6056 - accuracy: 0.4550\n",
            "Epoch 104/150\n",
            "1/1 [==============================] - 0s 7ms/step - loss: 1.5967 - accuracy: 0.4550\n",
            "Epoch 105/150\n",
            "1/1 [==============================] - 0s 6ms/step - loss: 1.5973 - accuracy: 0.4480\n",
            "Epoch 106/150\n",
            "1/1 [==============================] - 0s 9ms/step - loss: 1.5969 - accuracy: 0.4560\n",
            "Epoch 107/150\n",
            "1/1 [==============================] - 0s 4ms/step - loss: 1.5877 - accuracy: 0.4610\n",
            "Epoch 108/150\n",
            "1/1 [==============================] - 0s 4ms/step - loss: 1.5773 - accuracy: 0.4670\n",
            "Epoch 109/150\n",
            "1/1 [==============================] - 0s 5ms/step - loss: 1.5657 - accuracy: 0.4740\n",
            "Epoch 110/150\n",
            "1/1 [==============================] - 0s 5ms/step - loss: 1.5623 - accuracy: 0.4780\n",
            "Epoch 111/150\n",
            "1/1 [==============================] - 0s 4ms/step - loss: 1.5651 - accuracy: 0.4810\n",
            "Epoch 112/150\n",
            "1/1 [==============================] - 0s 6ms/step - loss: 1.5627 - accuracy: 0.4730\n",
            "Epoch 113/150\n",
            "1/1 [==============================] - 0s 5ms/step - loss: 1.5563 - accuracy: 0.4690\n",
            "Epoch 114/150\n",
            "1/1 [==============================] - 0s 6ms/step - loss: 1.5396 - accuracy: 0.4810\n",
            "Epoch 115/150\n",
            "1/1 [==============================] - 0s 3ms/step - loss: 1.5301 - accuracy: 0.4900\n",
            "Epoch 116/150\n",
            "1/1 [==============================] - 0s 5ms/step - loss: 1.5232 - accuracy: 0.4900\n",
            "Epoch 117/150\n",
            "1/1 [==============================] - 0s 4ms/step - loss: 1.5217 - accuracy: 0.4920\n",
            "Epoch 118/150\n",
            "1/1 [==============================] - 0s 4ms/step - loss: 1.5235 - accuracy: 0.4870\n",
            "Epoch 119/150\n",
            "1/1 [==============================] - 0s 5ms/step - loss: 1.5202 - accuracy: 0.4830\n",
            "Epoch 120/150\n",
            "1/1 [==============================] - 0s 4ms/step - loss: 1.5166 - accuracy: 0.4870\n",
            "Epoch 121/150\n",
            "1/1 [==============================] - 0s 4ms/step - loss: 1.5047 - accuracy: 0.4950\n",
            "Epoch 122/150\n",
            "1/1 [==============================] - 0s 4ms/step - loss: 1.4928 - accuracy: 0.5040\n",
            "Epoch 123/150\n",
            "1/1 [==============================] - 0s 4ms/step - loss: 1.4798 - accuracy: 0.5160\n",
            "Epoch 124/150\n",
            "1/1 [==============================] - 0s 5ms/step - loss: 1.4738 - accuracy: 0.5110\n",
            "Epoch 125/150\n",
            "1/1 [==============================] - 0s 5ms/step - loss: 1.4745 - accuracy: 0.5090\n",
            "Epoch 126/150\n",
            "1/1 [==============================] - 0s 3ms/step - loss: 1.4783 - accuracy: 0.5050\n",
            "Epoch 127/150\n",
            "1/1 [==============================] - 0s 4ms/step - loss: 1.4862 - accuracy: 0.5000\n",
            "Epoch 128/150\n",
            "1/1 [==============================] - 0s 4ms/step - loss: 1.4786 - accuracy: 0.5010\n",
            "Epoch 129/150\n",
            "1/1 [==============================] - 0s 4ms/step - loss: 1.4577 - accuracy: 0.5150\n",
            "Epoch 130/150\n",
            "1/1 [==============================] - 0s 13ms/step - loss: 1.4399 - accuracy: 0.5290\n",
            "Epoch 131/150\n",
            "1/1 [==============================] - 0s 8ms/step - loss: 1.4347 - accuracy: 0.5270\n",
            "Epoch 132/150\n",
            "1/1 [==============================] - 0s 5ms/step - loss: 1.4465 - accuracy: 0.5290\n",
            "Epoch 133/150\n",
            "1/1 [==============================] - 0s 7ms/step - loss: 1.4544 - accuracy: 0.5050\n",
            "Epoch 134/150\n",
            "1/1 [==============================] - 0s 4ms/step - loss: 1.4464 - accuracy: 0.5230\n",
            "Epoch 135/150\n",
            "1/1 [==============================] - 0s 5ms/step - loss: 1.4215 - accuracy: 0.5300\n",
            "Epoch 136/150\n",
            "1/1 [==============================] - 0s 5ms/step - loss: 1.4049 - accuracy: 0.5350\n",
            "Epoch 137/150\n",
            "1/1 [==============================] - 0s 3ms/step - loss: 1.4115 - accuracy: 0.5320\n",
            "Epoch 138/150\n",
            "1/1 [==============================] - 0s 4ms/step - loss: 1.4168 - accuracy: 0.5280\n",
            "Epoch 139/150\n",
            "1/1 [==============================] - 0s 7ms/step - loss: 1.4010 - accuracy: 0.5360\n",
            "Epoch 140/150\n",
            "1/1 [==============================] - 0s 5ms/step - loss: 1.3847 - accuracy: 0.5540\n",
            "Epoch 141/150\n",
            "1/1 [==============================] - 0s 4ms/step - loss: 1.3769 - accuracy: 0.5600\n",
            "Epoch 142/150\n",
            "1/1 [==============================] - 0s 5ms/step - loss: 1.3789 - accuracy: 0.5550\n",
            "Epoch 143/150\n",
            "1/1 [==============================] - 0s 4ms/step - loss: 1.3804 - accuracy: 0.5420\n",
            "Epoch 144/150\n",
            "1/1 [==============================] - 0s 4ms/step - loss: 1.3706 - accuracy: 0.5560\n",
            "Epoch 145/150\n",
            "1/1 [==============================] - 0s 5ms/step - loss: 1.3540 - accuracy: 0.5660\n",
            "Epoch 146/150\n",
            "1/1 [==============================] - 0s 4ms/step - loss: 1.3477 - accuracy: 0.5700\n",
            "Epoch 147/150\n",
            "1/1 [==============================] - 0s 6ms/step - loss: 1.3480 - accuracy: 0.5730\n",
            "Epoch 148/150\n",
            "1/1 [==============================] - 0s 5ms/step - loss: 1.3454 - accuracy: 0.5610\n",
            "Epoch 149/150\n",
            "1/1 [==============================] - 0s 3ms/step - loss: 1.3386 - accuracy: 0.5660\n",
            "Epoch 150/150\n",
            "1/1 [==============================] - 0s 5ms/step - loss: 1.3292 - accuracy: 0.5870\n",
            "CPU times: user 3.72 s, sys: 407 ms, total: 4.13 s\n",
            "Wall time: 5.98 s\n"
          ],
          "name": "stdout"
        }
      ]
    },
    {
      "cell_type": "code",
      "metadata": {
        "id": "6qf1NPuUNEFv",
        "colab_type": "code",
        "outputId": "c6302bf6-93cd-43fd-b911-b32eca4671ae",
        "colab": {
          "base_uri": "https://localhost:8080/",
          "height": 1000
        }
      },
      "source": [
        "%%time\n",
        "# epochs using trainingmodel. for random accuracy\n",
        "nr_epochs = 150\n",
        "model_2.fit(x_train_xs, y_train_xs, batch_size=sample_per_batch, epochs=nr_epochs,\n",
        "            callbacks=get_tensorboard(model_name='model 2'), validation_schema=(x_val, y_val))"
      ],
      "execution_count": 0,
      "outputs": [
        {
          "output_type": "stream",
          "text": [
            "Sucessfully created Folder\n",
            "Epoch 1/150\n",
            "1/1 [==============================] - 0s 5ms/step - loss: 2.4587 - accuracy: 0.1030\n",
            "Epoch 2/150\n",
            "1/1 [==============================] - 0s 6ms/step - loss: 2.4472 - accuracy: 0.1260\n",
            "Epoch 3/150\n",
            "1/1 [==============================] - 0s 4ms/step - loss: 2.4557 - accuracy: 0.1030\n",
            "Epoch 4/150\n",
            "1/1 [==============================] - 0s 4ms/step - loss: 2.3160 - accuracy: 0.1010\n",
            "Epoch 5/150\n",
            "1/1 [==============================] - 0s 4ms/step - loss: 2.2957 - accuracy: 0.1240\n",
            "Epoch 6/150\n",
            "1/1 [==============================] - 0s 5ms/step - loss: 2.2884 - accuracy: 0.1280\n",
            "Epoch 7/150\n",
            "1/1 [==============================] - 0s 3ms/step - loss: 2.2854 - accuracy: 0.1060\n",
            "Epoch 8/150\n",
            "1/1 [==============================] - 0s 5ms/step - loss: 2.2707 - accuracy: 0.1300\n",
            "Epoch 9/150\n",
            "1/1 [==============================] - 0s 4ms/step - loss: 2.2760 - accuracy: 0.1250\n",
            "Epoch 10/150\n",
            "1/1 [==============================] - 0s 5ms/step - loss: 2.2660 - accuracy: 0.1300\n",
            "Epoch 11/150\n",
            "1/1 [==============================] - 0s 4ms/step - loss: 2.2691 - accuracy: 0.1310\n",
            "Epoch 12/150\n",
            "1/1 [==============================] - 0s 6ms/step - loss: 2.2590 - accuracy: 0.1390\n",
            "Epoch 13/150\n",
            "1/1 [==============================] - 0s 4ms/step - loss: 2.2562 - accuracy: 0.1490\n",
            "Epoch 14/150\n",
            "1/1 [==============================] - 0s 9ms/step - loss: 2.2490 - accuracy: 0.1450\n",
            "Epoch 15/150\n",
            "1/1 [==============================] - 0s 4ms/step - loss: 2.2493 - accuracy: 0.1560\n",
            "Epoch 16/150\n",
            "1/1 [==============================] - 0s 4ms/step - loss: 2.2442 - accuracy: 0.1510\n",
            "Epoch 17/150\n",
            "1/1 [==============================] - 0s 4ms/step - loss: 2.2398 - accuracy: 0.1610\n",
            "Epoch 18/150\n",
            "1/1 [==============================] - 0s 4ms/step - loss: 2.2349 - accuracy: 0.1660\n",
            "Epoch 19/150\n",
            "1/1 [==============================] - 0s 4ms/step - loss: 2.2345 - accuracy: 0.1620\n",
            "Epoch 20/150\n",
            "1/1 [==============================] - 0s 3ms/step - loss: 2.2293 - accuracy: 0.1660\n",
            "Epoch 21/150\n",
            "1/1 [==============================] - 0s 4ms/step - loss: 2.2189 - accuracy: 0.1700\n",
            "Epoch 22/150\n",
            "1/1 [==============================] - 0s 5ms/step - loss: 2.2195 - accuracy: 0.1630\n",
            "Epoch 23/150\n",
            "1/1 [==============================] - 0s 5ms/step - loss: 2.2171 - accuracy: 0.1610\n",
            "Epoch 24/150\n",
            "1/1 [==============================] - 0s 4ms/step - loss: 2.2092 - accuracy: 0.1730\n",
            "Epoch 25/150\n",
            "1/1 [==============================] - 0s 9ms/step - loss: 2.2038 - accuracy: 0.1760\n",
            "Epoch 26/150\n",
            "1/1 [==============================] - 0s 6ms/step - loss: 2.2045 - accuracy: 0.1740\n",
            "Epoch 27/150\n",
            "1/1 [==============================] - 0s 6ms/step - loss: 2.1997 - accuracy: 0.1680\n",
            "Epoch 28/150\n",
            "1/1 [==============================] - 0s 4ms/step - loss: 2.2029 - accuracy: 0.1640\n",
            "Epoch 29/150\n",
            "1/1 [==============================] - 0s 4ms/step - loss: 2.1970 - accuracy: 0.1740\n",
            "Epoch 30/150\n",
            "1/1 [==============================] - 0s 4ms/step - loss: 2.1945 - accuracy: 0.1630\n",
            "Epoch 31/150\n",
            "1/1 [==============================] - 0s 4ms/step - loss: 2.1867 - accuracy: 0.1800\n",
            "Epoch 32/150\n",
            "1/1 [==============================] - 0s 4ms/step - loss: 2.1855 - accuracy: 0.1770\n",
            "Epoch 33/150\n",
            "1/1 [==============================] - 0s 5ms/step - loss: 2.1775 - accuracy: 0.1890\n",
            "Epoch 34/150\n",
            "1/1 [==============================] - 0s 5ms/step - loss: 2.1846 - accuracy: 0.1700\n",
            "Epoch 35/150\n",
            "1/1 [==============================] - 0s 4ms/step - loss: 2.1807 - accuracy: 0.1670\n",
            "Epoch 36/150\n",
            "1/1 [==============================] - 0s 5ms/step - loss: 2.1693 - accuracy: 0.1780\n",
            "Epoch 37/150\n",
            "1/1 [==============================] - 0s 4ms/step - loss: 2.1668 - accuracy: 0.1770\n",
            "Epoch 38/150\n",
            "1/1 [==============================] - 0s 5ms/step - loss: 2.1659 - accuracy: 0.1900\n",
            "Epoch 39/150\n",
            "1/1 [==============================] - 0s 5ms/step - loss: 2.1555 - accuracy: 0.2030\n",
            "Epoch 40/150\n",
            "1/1 [==============================] - 0s 6ms/step - loss: 2.1569 - accuracy: 0.1960\n",
            "Epoch 41/150\n",
            "1/1 [==============================] - 0s 4ms/step - loss: 2.1483 - accuracy: 0.1960\n",
            "Epoch 42/150\n",
            "1/1 [==============================] - 0s 6ms/step - loss: 2.1478 - accuracy: 0.2090\n",
            "Epoch 43/150\n",
            "1/1 [==============================] - 0s 6ms/step - loss: 2.1343 - accuracy: 0.2090\n",
            "Epoch 44/150\n",
            "1/1 [==============================] - 0s 4ms/step - loss: 2.1420 - accuracy: 0.1990\n",
            "Epoch 45/150\n",
            "1/1 [==============================] - 0s 4ms/step - loss: 2.1345 - accuracy: 0.2110\n",
            "Epoch 46/150\n",
            "1/1 [==============================] - 0s 4ms/step - loss: 2.1300 - accuracy: 0.2260\n",
            "Epoch 47/150\n",
            "1/1 [==============================] - 0s 4ms/step - loss: 2.1240 - accuracy: 0.2330\n",
            "Epoch 48/150\n",
            "1/1 [==============================] - 0s 6ms/step - loss: 2.1237 - accuracy: 0.2140\n",
            "Epoch 49/150\n",
            "1/1 [==============================] - 0s 4ms/step - loss: 2.1166 - accuracy: 0.2190\n",
            "Epoch 50/150\n",
            "1/1 [==============================] - 0s 7ms/step - loss: 2.1125 - accuracy: 0.2330\n",
            "Epoch 51/150\n",
            "1/1 [==============================] - 0s 4ms/step - loss: 2.1103 - accuracy: 0.2250\n",
            "Epoch 52/150\n",
            "1/1 [==============================] - 0s 4ms/step - loss: 2.1200 - accuracy: 0.2270\n",
            "Epoch 53/150\n",
            "1/1 [==============================] - 0s 4ms/step - loss: 2.1019 - accuracy: 0.2400\n",
            "Epoch 54/150\n",
            "1/1 [==============================] - 0s 4ms/step - loss: 2.0952 - accuracy: 0.2340\n",
            "Epoch 55/150\n",
            "1/1 [==============================] - 0s 4ms/step - loss: 2.0939 - accuracy: 0.2420\n",
            "Epoch 56/150\n",
            "1/1 [==============================] - 0s 4ms/step - loss: 2.0840 - accuracy: 0.2420\n",
            "Epoch 57/150\n",
            "1/1 [==============================] - 0s 5ms/step - loss: 2.0785 - accuracy: 0.2460\n",
            "Epoch 58/150\n",
            "1/1 [==============================] - 0s 7ms/step - loss: 2.0817 - accuracy: 0.2480\n",
            "Epoch 59/150\n",
            "1/1 [==============================] - 0s 4ms/step - loss: 2.0814 - accuracy: 0.2390\n",
            "Epoch 60/150\n",
            "1/1 [==============================] - 0s 4ms/step - loss: 2.0702 - accuracy: 0.2590\n",
            "Epoch 61/150\n",
            "1/1 [==============================] - 0s 4ms/step - loss: 2.0722 - accuracy: 0.2530\n",
            "Epoch 62/150\n",
            "1/1 [==============================] - 0s 5ms/step - loss: 2.0655 - accuracy: 0.2580\n",
            "Epoch 63/150\n",
            "1/1 [==============================] - 0s 6ms/step - loss: 2.0690 - accuracy: 0.2570\n",
            "Epoch 64/150\n",
            "1/1 [==============================] - 0s 5ms/step - loss: 2.0660 - accuracy: 0.2500\n",
            "Epoch 65/150\n",
            "1/1 [==============================] - 0s 5ms/step - loss: 2.0575 - accuracy: 0.2450\n",
            "Epoch 66/150\n",
            "1/1 [==============================] - 0s 4ms/step - loss: 2.0488 - accuracy: 0.2550\n",
            "Epoch 67/150\n",
            "1/1 [==============================] - 0s 4ms/step - loss: 2.0413 - accuracy: 0.2720\n",
            "Epoch 68/150\n",
            "1/1 [==============================] - 0s 4ms/step - loss: 2.0429 - accuracy: 0.2630\n",
            "Epoch 69/150\n",
            "1/1 [==============================] - 0s 4ms/step - loss: 2.0368 - accuracy: 0.2700\n",
            "Epoch 70/150\n",
            "1/1 [==============================] - 0s 3ms/step - loss: 2.0326 - accuracy: 0.2650\n",
            "Epoch 71/150\n",
            "1/1 [==============================] - 0s 3ms/step - loss: 2.0306 - accuracy: 0.2700\n",
            "Epoch 72/150\n",
            "1/1 [==============================] - 0s 4ms/step - loss: 2.0297 - accuracy: 0.2670\n",
            "Epoch 73/150\n",
            "1/1 [==============================] - 0s 4ms/step - loss: 2.0181 - accuracy: 0.2610\n",
            "Epoch 74/150\n",
            "1/1 [==============================] - 0s 6ms/step - loss: 2.0199 - accuracy: 0.2730\n",
            "Epoch 75/150\n",
            "1/1 [==============================] - 0s 4ms/step - loss: 2.0156 - accuracy: 0.2830\n",
            "Epoch 76/150\n",
            "1/1 [==============================] - 0s 5ms/step - loss: 2.0074 - accuracy: 0.2760\n",
            "Epoch 77/150\n",
            "1/1 [==============================] - 0s 3ms/step - loss: 2.0068 - accuracy: 0.2830\n",
            "Epoch 78/150\n",
            "1/1 [==============================] - 0s 6ms/step - loss: 2.0051 - accuracy: 0.2810\n",
            "Epoch 79/150\n",
            "1/1 [==============================] - 0s 5ms/step - loss: 1.9929 - accuracy: 0.2840\n",
            "Epoch 80/150\n",
            "1/1 [==============================] - 0s 4ms/step - loss: 1.9928 - accuracy: 0.2820\n",
            "Epoch 81/150\n",
            "1/1 [==============================] - 0s 4ms/step - loss: 1.9863 - accuracy: 0.2840\n",
            "Epoch 82/150\n",
            "1/1 [==============================] - 0s 4ms/step - loss: 1.9836 - accuracy: 0.2970\n",
            "Epoch 83/150\n",
            "1/1 [==============================] - 0s 4ms/step - loss: 1.9794 - accuracy: 0.2980\n",
            "Epoch 84/150\n",
            "1/1 [==============================] - 0s 5ms/step - loss: 1.9714 - accuracy: 0.2910\n",
            "Epoch 85/150\n",
            "1/1 [==============================] - 0s 5ms/step - loss: 1.9608 - accuracy: 0.2940\n",
            "Epoch 86/150\n",
            "1/1 [==============================] - 0s 4ms/step - loss: 1.9645 - accuracy: 0.2950\n",
            "Epoch 87/150\n",
            "1/1 [==============================] - 0s 4ms/step - loss: 1.9596 - accuracy: 0.3010\n",
            "Epoch 88/150\n",
            "1/1 [==============================] - 0s 4ms/step - loss: 1.9661 - accuracy: 0.2860\n",
            "Epoch 89/150\n",
            "1/1 [==============================] - 0s 5ms/step - loss: 1.9547 - accuracy: 0.3090\n",
            "Epoch 90/150\n",
            "1/1 [==============================] - 0s 5ms/step - loss: 1.9515 - accuracy: 0.2900\n",
            "Epoch 91/150\n",
            "1/1 [==============================] - 0s 5ms/step - loss: 1.9431 - accuracy: 0.3200\n",
            "Epoch 92/150\n",
            "1/1 [==============================] - 0s 4ms/step - loss: 1.9539 - accuracy: 0.3090\n",
            "Epoch 93/150\n",
            "1/1 [==============================] - 0s 4ms/step - loss: 1.9385 - accuracy: 0.3250\n",
            "Epoch 94/150\n",
            "1/1 [==============================] - 0s 5ms/step - loss: 1.9361 - accuracy: 0.3110\n",
            "Epoch 95/150\n",
            "1/1 [==============================] - 0s 4ms/step - loss: 1.9324 - accuracy: 0.3120\n",
            "Epoch 96/150\n",
            "1/1 [==============================] - 0s 4ms/step - loss: 1.9289 - accuracy: 0.3210\n",
            "Epoch 97/150\n",
            "1/1 [==============================] - 0s 7ms/step - loss: 1.9170 - accuracy: 0.3250\n",
            "Epoch 98/150\n",
            "1/1 [==============================] - 0s 5ms/step - loss: 1.9216 - accuracy: 0.3180\n",
            "Epoch 99/150\n",
            "1/1 [==============================] - 0s 5ms/step - loss: 1.9130 - accuracy: 0.3280\n",
            "Epoch 100/150\n",
            "1/1 [==============================] - 0s 4ms/step - loss: 1.9180 - accuracy: 0.3160\n",
            "Epoch 101/150\n",
            "1/1 [==============================] - 0s 5ms/step - loss: 1.9181 - accuracy: 0.3230\n",
            "Epoch 102/150\n",
            "1/1 [==============================] - 0s 7ms/step - loss: 1.9066 - accuracy: 0.3290\n",
            "Epoch 103/150\n",
            "1/1 [==============================] - 0s 4ms/step - loss: 1.8865 - accuracy: 0.3330\n",
            "Epoch 104/150\n",
            "1/1 [==============================] - 0s 4ms/step - loss: 1.9055 - accuracy: 0.3200\n",
            "Epoch 105/150\n",
            "1/1 [==============================] - 0s 4ms/step - loss: 1.8853 - accuracy: 0.3330\n",
            "Epoch 106/150\n",
            "1/1 [==============================] - 0s 6ms/step - loss: 1.8896 - accuracy: 0.3360\n",
            "Epoch 107/150\n",
            "1/1 [==============================] - 0s 4ms/step - loss: 1.8842 - accuracy: 0.3410\n",
            "Epoch 108/150\n",
            "1/1 [==============================] - 0s 4ms/step - loss: 1.8698 - accuracy: 0.3450\n",
            "Epoch 109/150\n",
            "1/1 [==============================] - 0s 5ms/step - loss: 1.8642 - accuracy: 0.3400\n",
            "Epoch 110/150\n",
            "1/1 [==============================] - 0s 4ms/step - loss: 1.8655 - accuracy: 0.3440\n",
            "Epoch 111/150\n",
            "1/1 [==============================] - 0s 4ms/step - loss: 1.8579 - accuracy: 0.3430\n",
            "Epoch 112/150\n",
            "1/1 [==============================] - 0s 4ms/step - loss: 1.8468 - accuracy: 0.3510\n",
            "Epoch 113/150\n",
            "1/1 [==============================] - 0s 4ms/step - loss: 1.8524 - accuracy: 0.3450\n",
            "Epoch 114/150\n",
            "1/1 [==============================] - 0s 5ms/step - loss: 1.8440 - accuracy: 0.3680\n",
            "Epoch 115/150\n",
            "1/1 [==============================] - 0s 5ms/step - loss: 1.8561 - accuracy: 0.3420\n",
            "Epoch 116/150\n",
            "1/1 [==============================] - 0s 5ms/step - loss: 1.8551 - accuracy: 0.3400\n",
            "Epoch 117/150\n",
            "1/1 [==============================] - 0s 5ms/step - loss: 1.8456 - accuracy: 0.3510\n",
            "Epoch 118/150\n",
            "1/1 [==============================] - 0s 4ms/step - loss: 1.8354 - accuracy: 0.3740\n",
            "Epoch 119/150\n",
            "1/1 [==============================] - 0s 4ms/step - loss: 1.8241 - accuracy: 0.3690\n",
            "Epoch 120/150\n",
            "1/1 [==============================] - 0s 4ms/step - loss: 1.8271 - accuracy: 0.3510\n",
            "Epoch 121/150\n",
            "1/1 [==============================] - 0s 3ms/step - loss: 1.8181 - accuracy: 0.3700\n",
            "Epoch 122/150\n",
            "1/1 [==============================] - 0s 3ms/step - loss: 1.8062 - accuracy: 0.3720\n",
            "Epoch 123/150\n",
            "1/1 [==============================] - 0s 4ms/step - loss: 1.8085 - accuracy: 0.3470\n",
            "Epoch 124/150\n",
            "1/1 [==============================] - 0s 5ms/step - loss: 1.7980 - accuracy: 0.3640\n",
            "Epoch 125/150\n",
            "1/1 [==============================] - 0s 5ms/step - loss: 1.8024 - accuracy: 0.3840\n",
            "Epoch 126/150\n",
            "1/1 [==============================] - 0s 5ms/step - loss: 1.8010 - accuracy: 0.3720\n",
            "Epoch 127/150\n",
            "1/1 [==============================] - 0s 4ms/step - loss: 1.7826 - accuracy: 0.3690\n",
            "Epoch 128/150\n",
            "1/1 [==============================] - 0s 7ms/step - loss: 1.7773 - accuracy: 0.3840\n",
            "Epoch 129/150\n",
            "1/1 [==============================] - 0s 6ms/step - loss: 1.7881 - accuracy: 0.3700\n",
            "Epoch 130/150\n",
            "1/1 [==============================] - 0s 5ms/step - loss: 1.7881 - accuracy: 0.3620\n",
            "Epoch 131/150\n",
            "1/1 [==============================] - 0s 7ms/step - loss: 1.7833 - accuracy: 0.3740\n",
            "Epoch 132/150\n",
            "1/1 [==============================] - 0s 5ms/step - loss: 1.7629 - accuracy: 0.3870\n",
            "Epoch 133/150\n",
            "1/1 [==============================] - 0s 4ms/step - loss: 1.7635 - accuracy: 0.3880\n",
            "Epoch 134/150\n",
            "1/1 [==============================] - 0s 5ms/step - loss: 1.7700 - accuracy: 0.3850\n",
            "Epoch 135/150\n",
            "1/1 [==============================] - 0s 5ms/step - loss: 1.7696 - accuracy: 0.3830\n",
            "Epoch 136/150\n",
            "1/1 [==============================] - 0s 4ms/step - loss: 1.7631 - accuracy: 0.3740\n",
            "Epoch 137/150\n",
            "1/1 [==============================] - 0s 4ms/step - loss: 1.7757 - accuracy: 0.3670\n",
            "Epoch 138/150\n",
            "1/1 [==============================] - 0s 6ms/step - loss: 1.7612 - accuracy: 0.3890\n",
            "Epoch 139/150\n",
            "1/1 [==============================] - 0s 5ms/step - loss: 1.7371 - accuracy: 0.3870\n",
            "Epoch 140/150\n",
            "1/1 [==============================] - 0s 4ms/step - loss: 1.7470 - accuracy: 0.3800\n",
            "Epoch 141/150\n",
            "1/1 [==============================] - 0s 5ms/step - loss: 1.7407 - accuracy: 0.3760\n",
            "Epoch 142/150\n",
            "1/1 [==============================] - 0s 3ms/step - loss: 1.7519 - accuracy: 0.3800\n",
            "Epoch 143/150\n",
            "1/1 [==============================] - 0s 4ms/step - loss: 1.7876 - accuracy: 0.3660\n",
            "Epoch 144/150\n",
            "1/1 [==============================] - 0s 5ms/step - loss: 1.7814 - accuracy: 0.3700\n",
            "Epoch 145/150\n",
            "1/1 [==============================] - 0s 5ms/step - loss: 1.7459 - accuracy: 0.3700\n",
            "Epoch 146/150\n",
            "1/1 [==============================] - 0s 5ms/step - loss: 1.7774 - accuracy: 0.3880\n",
            "Epoch 147/150\n",
            "1/1 [==============================] - 0s 5ms/step - loss: 1.7393 - accuracy: 0.3990\n",
            "Epoch 148/150\n",
            "1/1 [==============================] - 0s 4ms/step - loss: 1.7388 - accuracy: 0.3740\n",
            "Epoch 149/150\n",
            "1/1 [==============================] - 0s 4ms/step - loss: 1.7356 - accuracy: 0.4010\n",
            "Epoch 150/150\n",
            "1/1 [==============================] - 0s 6ms/step - loss: 1.7147 - accuracy: 0.4120\n",
            "CPU times: user 3.57 s, sys: 423 ms, total: 4 s\n",
            "Wall time: 3.82 s\n"
          ],
          "name": "stdout"
        }
      ]
    },
    {
      "cell_type": "markdown",
      "metadata": {
        "id": "O7pCZQ3kNcXK",
        "colab_type": "text"
      },
      "source": [
        "# Training Full Data"
      ]
    },
    {
      "cell_type": "code",
      "metadata": {
        "id": "yjtNKtpmPdm_",
        "colab_type": "code",
        "outputId": "f158cc73-fdbb-4d36-b696-dbeebdb88a41",
        "colab": {
          "base_uri": "https://localhost:8080/",
          "height": 1000
        }
      },
      "source": [
        "%%time\n",
        "# epochs using trainingmodel. for random accuracy\n",
        "nr_epochs = 100\n",
        "model_1.fit(x_train, y_train, batch_size=sample_per_batch, epochs=nr_epochs,\n",
        "            callbacks=get_tensorboard(model_name='model 1 XL'), validation_schema=(x_val, y_val))"
      ],
      "execution_count": 0,
      "outputs": [
        {
          "output_type": "stream",
          "text": [
            "Sucessfully created Folder\n",
            "Epoch 1/100\n",
            "40/40 [==============================] - 0s 11ms/step - loss: 1.9170 - accuracy: 0.3273\n",
            "Epoch 2/100\n",
            "40/40 [==============================] - 0s 10ms/step - loss: 1.8010 - accuracy: 0.3616\n",
            "Epoch 3/100\n",
            "40/40 [==============================] - 0s 10ms/step - loss: 1.7518 - accuracy: 0.3791\n",
            "Epoch 4/100\n",
            "40/40 [==============================] - 0s 10ms/step - loss: 1.7110 - accuracy: 0.3937\n",
            "Epoch 5/100\n",
            "40/40 [==============================] - 0s 10ms/step - loss: 1.6972 - accuracy: 0.3990\n",
            "Epoch 6/100\n",
            "40/40 [==============================] - 0s 10ms/step - loss: 1.6685 - accuracy: 0.4063\n",
            "Epoch 7/100\n",
            "40/40 [==============================] - 0s 10ms/step - loss: 1.6558 - accuracy: 0.4094\n",
            "Epoch 8/100\n",
            "40/40 [==============================] - 0s 10ms/step - loss: 1.6303 - accuracy: 0.4202\n",
            "Epoch 9/100\n",
            "40/40 [==============================] - 0s 10ms/step - loss: 1.6162 - accuracy: 0.4248\n",
            "Epoch 10/100\n",
            "40/40 [==============================] - 0s 10ms/step - loss: 1.6028 - accuracy: 0.4295\n",
            "Epoch 11/100\n",
            "40/40 [==============================] - 0s 10ms/step - loss: 1.5851 - accuracy: 0.4352\n",
            "Epoch 12/100\n",
            "40/40 [==============================] - 0s 10ms/step - loss: 1.5810 - accuracy: 0.4374\n",
            "Epoch 13/100\n",
            "40/40 [==============================] - 0s 10ms/step - loss: 1.5645 - accuracy: 0.4429\n",
            "Epoch 14/100\n",
            "40/40 [==============================] - 0s 10ms/step - loss: 1.5542 - accuracy: 0.4443\n",
            "Epoch 15/100\n",
            "40/40 [==============================] - 0s 10ms/step - loss: 1.5469 - accuracy: 0.4476\n",
            "Epoch 16/100\n",
            "40/40 [==============================] - 0s 11ms/step - loss: 1.5382 - accuracy: 0.4512\n",
            "Epoch 17/100\n",
            "40/40 [==============================] - 0s 11ms/step - loss: 1.5246 - accuracy: 0.4545\n",
            "Epoch 18/100\n",
            "40/40 [==============================] - 0s 10ms/step - loss: 1.5134 - accuracy: 0.4589\n",
            "Epoch 19/100\n",
            "40/40 [==============================] - 0s 10ms/step - loss: 1.5072 - accuracy: 0.4653\n",
            "Epoch 20/100\n",
            "40/40 [==============================] - 0s 10ms/step - loss: 1.4925 - accuracy: 0.4691\n",
            "Epoch 21/100\n",
            "40/40 [==============================] - 0s 10ms/step - loss: 1.4835 - accuracy: 0.4730\n",
            "Epoch 22/100\n",
            "40/40 [==============================] - 0s 10ms/step - loss: 1.4818 - accuracy: 0.4742\n",
            "Epoch 23/100\n",
            "40/40 [==============================] - 0s 10ms/step - loss: 1.4736 - accuracy: 0.4751\n",
            "Epoch 24/100\n",
            "40/40 [==============================] - 0s 10ms/step - loss: 1.4639 - accuracy: 0.4798\n",
            "Epoch 25/100\n",
            "40/40 [==============================] - 0s 10ms/step - loss: 1.4609 - accuracy: 0.4796\n",
            "Epoch 26/100\n",
            "40/40 [==============================] - 0s 9ms/step - loss: 1.4644 - accuracy: 0.4805\n",
            "Epoch 27/100\n",
            "40/40 [==============================] - 0s 9ms/step - loss: 1.4578 - accuracy: 0.4805\n",
            "Epoch 28/100\n",
            "40/40 [==============================] - 0s 10ms/step - loss: 1.4431 - accuracy: 0.4857\n",
            "Epoch 29/100\n",
            "40/40 [==============================] - 0s 10ms/step - loss: 1.4369 - accuracy: 0.4900\n",
            "Epoch 30/100\n",
            "40/40 [==============================] - 0s 10ms/step - loss: 1.4245 - accuracy: 0.4960\n",
            "Epoch 31/100\n",
            "40/40 [==============================] - 0s 10ms/step - loss: 1.4295 - accuracy: 0.4904\n",
            "Epoch 32/100\n",
            "40/40 [==============================] - 0s 9ms/step - loss: 1.4394 - accuracy: 0.4887\n",
            "Epoch 33/100\n",
            "40/40 [==============================] - 0s 10ms/step - loss: 1.4221 - accuracy: 0.4943\n",
            "Epoch 34/100\n",
            "40/40 [==============================] - 0s 10ms/step - loss: 1.4061 - accuracy: 0.5011\n",
            "Epoch 35/100\n",
            "40/40 [==============================] - 0s 10ms/step - loss: 1.3983 - accuracy: 0.5036\n",
            "Epoch 36/100\n",
            "40/40 [==============================] - 0s 10ms/step - loss: 1.3975 - accuracy: 0.5013\n",
            "Epoch 37/100\n",
            "40/40 [==============================] - 0s 9ms/step - loss: 1.4005 - accuracy: 0.5026\n",
            "Epoch 38/100\n",
            "40/40 [==============================] - 0s 9ms/step - loss: 1.3929 - accuracy: 0.5069\n",
            "Epoch 39/100\n",
            "40/40 [==============================] - 0s 10ms/step - loss: 1.3831 - accuracy: 0.5076\n",
            "Epoch 40/100\n",
            "40/40 [==============================] - 0s 9ms/step - loss: 1.3799 - accuracy: 0.5071\n",
            "Epoch 41/100\n",
            "40/40 [==============================] - 0s 10ms/step - loss: 1.3887 - accuracy: 0.5071\n",
            "Epoch 42/100\n",
            "40/40 [==============================] - 0s 10ms/step - loss: 1.3698 - accuracy: 0.5147\n",
            "Epoch 43/100\n",
            "40/40 [==============================] - 0s 10ms/step - loss: 1.3736 - accuracy: 0.5124\n",
            "Epoch 44/100\n",
            "40/40 [==============================] - 0s 9ms/step - loss: 1.3714 - accuracy: 0.5118\n",
            "Epoch 45/100\n",
            "40/40 [==============================] - 0s 9ms/step - loss: 1.3671 - accuracy: 0.5157\n",
            "Epoch 46/100\n",
            "40/40 [==============================] - 0s 9ms/step - loss: 1.3620 - accuracy: 0.5148\n",
            "Epoch 47/100\n",
            "40/40 [==============================] - 0s 9ms/step - loss: 1.3537 - accuracy: 0.5200\n",
            "Epoch 48/100\n",
            "40/40 [==============================] - 0s 10ms/step - loss: 1.3457 - accuracy: 0.5209\n",
            "Epoch 49/100\n",
            "40/40 [==============================] - 0s 9ms/step - loss: 1.3440 - accuracy: 0.5235\n",
            "Epoch 50/100\n",
            "40/40 [==============================] - 0s 10ms/step - loss: 1.3443 - accuracy: 0.5216\n",
            "Epoch 51/100\n",
            "40/40 [==============================] - 0s 9ms/step - loss: 1.3417 - accuracy: 0.5234\n",
            "Epoch 52/100\n",
            "40/40 [==============================] - 0s 9ms/step - loss: 1.3328 - accuracy: 0.5265\n",
            "Epoch 53/100\n",
            "40/40 [==============================] - 0s 9ms/step - loss: 1.3251 - accuracy: 0.5292\n",
            "Epoch 54/100\n",
            "40/40 [==============================] - 0s 10ms/step - loss: 1.3353 - accuracy: 0.5244\n",
            "Epoch 55/100\n",
            "40/40 [==============================] - 0s 10ms/step - loss: 1.3314 - accuracy: 0.5250\n",
            "Epoch 56/100\n",
            "40/40 [==============================] - 0s 10ms/step - loss: 1.3212 - accuracy: 0.5308\n",
            "Epoch 57/100\n",
            "40/40 [==============================] - 0s 10ms/step - loss: 1.3214 - accuracy: 0.5303\n",
            "Epoch 58/100\n",
            "40/40 [==============================] - 0s 9ms/step - loss: 1.3194 - accuracy: 0.5299\n",
            "Epoch 59/100\n",
            "40/40 [==============================] - 0s 9ms/step - loss: 1.3201 - accuracy: 0.5306\n",
            "Epoch 60/100\n",
            "40/40 [==============================] - 0s 10ms/step - loss: 1.3100 - accuracy: 0.5325\n",
            "Epoch 61/100\n",
            "40/40 [==============================] - 0s 10ms/step - loss: 1.3053 - accuracy: 0.5355\n",
            "Epoch 62/100\n",
            "40/40 [==============================] - 0s 10ms/step - loss: 1.3027 - accuracy: 0.5371\n",
            "Epoch 63/100\n",
            "40/40 [==============================] - 0s 9ms/step - loss: 1.3039 - accuracy: 0.5353\n",
            "Epoch 64/100\n",
            "40/40 [==============================] - 0s 9ms/step - loss: 1.2890 - accuracy: 0.5412\n",
            "Epoch 65/100\n",
            "40/40 [==============================] - 0s 9ms/step - loss: 1.2935 - accuracy: 0.5371\n",
            "Epoch 66/100\n",
            "40/40 [==============================] - 0s 9ms/step - loss: 1.3099 - accuracy: 0.5329\n",
            "Epoch 67/100\n",
            "40/40 [==============================] - 0s 9ms/step - loss: 1.2849 - accuracy: 0.5419\n",
            "Epoch 68/100\n",
            "40/40 [==============================] - 0s 9ms/step - loss: 1.2783 - accuracy: 0.5461\n",
            "Epoch 69/100\n",
            "40/40 [==============================] - 0s 10ms/step - loss: 1.2765 - accuracy: 0.5458\n",
            "Epoch 70/100\n",
            "40/40 [==============================] - 0s 9ms/step - loss: 1.2667 - accuracy: 0.5482\n",
            "Epoch 71/100\n",
            "40/40 [==============================] - 0s 10ms/step - loss: 1.2729 - accuracy: 0.5447\n",
            "Epoch 72/100\n",
            "40/40 [==============================] - 0s 9ms/step - loss: 1.2709 - accuracy: 0.5480\n",
            "Epoch 73/100\n",
            "40/40 [==============================] - 0s 10ms/step - loss: 1.2734 - accuracy: 0.5463\n",
            "Epoch 74/100\n",
            "40/40 [==============================] - 0s 10ms/step - loss: 1.2649 - accuracy: 0.5479\n",
            "Epoch 75/100\n",
            "40/40 [==============================] - 0s 9ms/step - loss: 1.2659 - accuracy: 0.5481\n",
            "Epoch 76/100\n",
            "40/40 [==============================] - 0s 9ms/step - loss: 1.2553 - accuracy: 0.5541\n",
            "Epoch 77/100\n",
            "40/40 [==============================] - 0s 9ms/step - loss: 1.2549 - accuracy: 0.5527\n",
            "Epoch 78/100\n",
            "40/40 [==============================] - 0s 10ms/step - loss: 1.2546 - accuracy: 0.5502\n",
            "Epoch 79/100\n",
            "40/40 [==============================] - 0s 10ms/step - loss: 1.2487 - accuracy: 0.5544\n",
            "Epoch 80/100\n",
            "40/40 [==============================] - 0s 9ms/step - loss: 1.2446 - accuracy: 0.5566\n",
            "Epoch 81/100\n",
            "40/40 [==============================] - 0s 10ms/step - loss: 1.2465 - accuracy: 0.5566\n",
            "Epoch 82/100\n",
            "40/40 [==============================] - 0s 9ms/step - loss: 1.2510 - accuracy: 0.5524\n",
            "Epoch 83/100\n",
            "40/40 [==============================] - 0s 9ms/step - loss: 1.2443 - accuracy: 0.5558\n",
            "Epoch 84/100\n",
            "40/40 [==============================] - 0s 9ms/step - loss: 1.2432 - accuracy: 0.5576\n",
            "Epoch 85/100\n",
            "40/40 [==============================] - 0s 9ms/step - loss: 1.2479 - accuracy: 0.5540\n",
            "Epoch 86/100\n",
            "40/40 [==============================] - 0s 10ms/step - loss: 1.2421 - accuracy: 0.5594\n",
            "Epoch 87/100\n",
            "40/40 [==============================] - 0s 10ms/step - loss: 1.2301 - accuracy: 0.5616\n",
            "Epoch 88/100\n",
            "40/40 [==============================] - 0s 9ms/step - loss: 1.2317 - accuracy: 0.5616\n",
            "Epoch 89/100\n",
            "40/40 [==============================] - 0s 10ms/step - loss: 1.2331 - accuracy: 0.5612\n",
            "Epoch 90/100\n",
            "40/40 [==============================] - 0s 9ms/step - loss: 1.2314 - accuracy: 0.5613\n",
            "Epoch 91/100\n",
            "40/40 [==============================] - 0s 10ms/step - loss: 1.2196 - accuracy: 0.5663\n",
            "Epoch 92/100\n",
            "40/40 [==============================] - 0s 9ms/step - loss: 1.2178 - accuracy: 0.5665\n",
            "Epoch 93/100\n",
            "40/40 [==============================] - 0s 9ms/step - loss: 1.2213 - accuracy: 0.5625\n",
            "Epoch 94/100\n",
            "40/40 [==============================] - 0s 10ms/step - loss: 1.2307 - accuracy: 0.5586\n",
            "Epoch 95/100\n",
            "40/40 [==============================] - 0s 10ms/step - loss: 1.2208 - accuracy: 0.5639\n",
            "Epoch 96/100\n",
            "40/40 [==============================] - 0s 11ms/step - loss: 1.2069 - accuracy: 0.5711\n",
            "Epoch 97/100\n",
            "40/40 [==============================] - 0s 9ms/step - loss: 1.2273 - accuracy: 0.5620\n",
            "Epoch 98/100\n",
            "40/40 [==============================] - 0s 9ms/step - loss: 1.2130 - accuracy: 0.5675\n",
            "Epoch 99/100\n",
            "40/40 [==============================] - 0s 10ms/step - loss: 1.2029 - accuracy: 0.5703\n",
            "Epoch 100/100\n",
            "40/40 [==============================] - 0s 9ms/step - loss: 1.1957 - accuracy: 0.5734\n",
            "CPU times: user 48.7 s, sys: 4.58 s, total: 53.3 s\n",
            "Wall time: 40.3 s\n"
          ],
          "name": "stdout"
        }
      ]
    },
    {
      "cell_type": "code",
      "metadata": {
        "id": "2mm8VVc3TGW_",
        "colab_type": "code",
        "outputId": "80f20e69-dacd-4057-9267-9eff9566e656",
        "colab": {
          "base_uri": "https://localhost:8080/",
          "height": 1000
        }
      },
      "source": [
        "%%time\n",
        "# epochs using trainingmodel. for random accuracy\n",
        "nr_epochs = 100\n",
        "model_2.fit(x_train, y_train, batch_size=sample_per_batch, epochs=nr_epochs,\n",
        "            callbacks=get_tensorboard(model_name='model 2 XL'), validation_schema=(x_val, y_val))"
      ],
      "execution_count": 0,
      "outputs": [
        {
          "output_type": "stream",
          "text": [
            "Sucessfully created Folder\n",
            "Epoch 1/100\n",
            "40/40 [==============================] - 0s 12ms/step - loss: 2.1083 - accuracy: 0.2433\n",
            "Epoch 2/100\n",
            "40/40 [==============================] - 0s 10ms/step - loss: 1.9992 - accuracy: 0.2799\n",
            "Epoch 3/100\n",
            "40/40 [==============================] - 0s 11ms/step - loss: 1.9239 - accuracy: 0.3024\n",
            "Epoch 4/100\n",
            "40/40 [==============================] - 0s 10ms/step - loss: 1.8664 - accuracy: 0.3252\n",
            "Epoch 5/100\n",
            "40/40 [==============================] - 0s 10ms/step - loss: 1.8226 - accuracy: 0.3439\n",
            "Epoch 6/100\n",
            "40/40 [==============================] - 0s 10ms/step - loss: 1.7883 - accuracy: 0.3574\n",
            "Epoch 7/100\n",
            "40/40 [==============================] - 0s 10ms/step - loss: 1.7563 - accuracy: 0.3711\n",
            "Epoch 8/100\n",
            "40/40 [==============================] - 0s 10ms/step - loss: 1.7326 - accuracy: 0.3857\n",
            "Epoch 9/100\n",
            "40/40 [==============================] - 0s 10ms/step - loss: 1.7042 - accuracy: 0.3952\n",
            "Epoch 10/100\n",
            "40/40 [==============================] - 0s 10ms/step - loss: 1.6844 - accuracy: 0.4018\n",
            "Epoch 11/100\n",
            "40/40 [==============================] - 0s 10ms/step - loss: 1.6609 - accuracy: 0.4082\n",
            "Epoch 12/100\n",
            "40/40 [==============================] - 0s 10ms/step - loss: 1.6458 - accuracy: 0.4142\n",
            "Epoch 13/100\n",
            "40/40 [==============================] - 0s 10ms/step - loss: 1.6289 - accuracy: 0.4207\n",
            "Epoch 14/100\n",
            "40/40 [==============================] - 0s 10ms/step - loss: 1.6201 - accuracy: 0.4227\n",
            "Epoch 15/100\n",
            "40/40 [==============================] - 0s 10ms/step - loss: 1.6145 - accuracy: 0.4251\n",
            "Epoch 16/100\n",
            "40/40 [==============================] - 0s 10ms/step - loss: 1.5995 - accuracy: 0.4311\n",
            "Epoch 17/100\n",
            "40/40 [==============================] - 0s 10ms/step - loss: 1.5912 - accuracy: 0.4353\n",
            "Epoch 18/100\n",
            "40/40 [==============================] - 0s 10ms/step - loss: 1.5750 - accuracy: 0.4382\n",
            "Epoch 19/100\n",
            "40/40 [==============================] - 0s 10ms/step - loss: 1.5670 - accuracy: 0.4407\n",
            "Epoch 20/100\n",
            "40/40 [==============================] - 0s 10ms/step - loss: 1.5591 - accuracy: 0.4430\n",
            "Epoch 21/100\n",
            "40/40 [==============================] - 0s 10ms/step - loss: 1.5575 - accuracy: 0.4446\n",
            "Epoch 22/100\n",
            "40/40 [==============================] - 0s 10ms/step - loss: 1.5496 - accuracy: 0.4475\n",
            "Epoch 23/100\n",
            "40/40 [==============================] - 0s 10ms/step - loss: 1.5432 - accuracy: 0.4497\n",
            "Epoch 24/100\n",
            "40/40 [==============================] - 0s 10ms/step - loss: 1.5372 - accuracy: 0.4507\n",
            "Epoch 25/100\n",
            "40/40 [==============================] - 0s 11ms/step - loss: 1.5258 - accuracy: 0.4572\n",
            "Epoch 26/100\n",
            "40/40 [==============================] - 0s 10ms/step - loss: 1.5151 - accuracy: 0.4582\n",
            "Epoch 27/100\n",
            "40/40 [==============================] - 0s 11ms/step - loss: 1.5105 - accuracy: 0.4613\n",
            "Epoch 28/100\n",
            "40/40 [==============================] - 0s 10ms/step - loss: 1.5071 - accuracy: 0.4610\n",
            "Epoch 29/100\n",
            "40/40 [==============================] - 0s 10ms/step - loss: 1.4978 - accuracy: 0.4642\n",
            "Epoch 30/100\n",
            "40/40 [==============================] - 0s 11ms/step - loss: 1.4964 - accuracy: 0.4663\n",
            "Epoch 31/100\n",
            "40/40 [==============================] - 0s 10ms/step - loss: 1.4870 - accuracy: 0.4671\n",
            "Epoch 32/100\n",
            "40/40 [==============================] - 0s 10ms/step - loss: 1.4832 - accuracy: 0.4704\n",
            "Epoch 33/100\n",
            "40/40 [==============================] - 0s 10ms/step - loss: 1.4819 - accuracy: 0.4719\n",
            "Epoch 34/100\n",
            "40/40 [==============================] - 0s 10ms/step - loss: 1.4870 - accuracy: 0.4720\n",
            "Epoch 35/100\n",
            "40/40 [==============================] - 0s 10ms/step - loss: 1.4735 - accuracy: 0.4735\n",
            "Epoch 36/100\n",
            "40/40 [==============================] - 0s 10ms/step - loss: 1.4672 - accuracy: 0.4767\n",
            "Epoch 37/100\n",
            "40/40 [==============================] - 0s 11ms/step - loss: 1.4694 - accuracy: 0.4748\n",
            "Epoch 38/100\n",
            "40/40 [==============================] - 0s 10ms/step - loss: 1.4653 - accuracy: 0.4769\n",
            "Epoch 39/100\n",
            "40/40 [==============================] - 0s 10ms/step - loss: 1.4532 - accuracy: 0.4814\n",
            "Epoch 40/100\n",
            "40/40 [==============================] - 0s 10ms/step - loss: 1.4471 - accuracy: 0.4830\n",
            "Epoch 41/100\n",
            "40/40 [==============================] - 0s 10ms/step - loss: 1.4376 - accuracy: 0.4860\n",
            "Epoch 42/100\n",
            "40/40 [==============================] - 0s 10ms/step - loss: 1.4382 - accuracy: 0.4872\n",
            "Epoch 43/100\n",
            "40/40 [==============================] - 0s 10ms/step - loss: 1.4345 - accuracy: 0.4883\n",
            "Epoch 44/100\n",
            "40/40 [==============================] - 0s 11ms/step - loss: 1.4391 - accuracy: 0.4889\n",
            "Epoch 45/100\n",
            "40/40 [==============================] - 0s 10ms/step - loss: 1.4218 - accuracy: 0.4918\n",
            "Epoch 46/100\n",
            "40/40 [==============================] - 0s 10ms/step - loss: 1.4265 - accuracy: 0.4903\n",
            "Epoch 47/100\n",
            "40/40 [==============================] - 0s 10ms/step - loss: 1.4183 - accuracy: 0.4957\n",
            "Epoch 48/100\n",
            "40/40 [==============================] - 0s 10ms/step - loss: 1.4247 - accuracy: 0.4922\n",
            "Epoch 49/100\n",
            "40/40 [==============================] - 0s 10ms/step - loss: 1.4125 - accuracy: 0.4957\n",
            "Epoch 50/100\n",
            "40/40 [==============================] - 0s 10ms/step - loss: 1.4186 - accuracy: 0.4942\n",
            "Epoch 51/100\n",
            "40/40 [==============================] - 0s 10ms/step - loss: 1.4168 - accuracy: 0.4927\n",
            "Epoch 52/100\n",
            "40/40 [==============================] - 0s 10ms/step - loss: 1.4093 - accuracy: 0.4948\n",
            "Epoch 53/100\n",
            "40/40 [==============================] - 0s 10ms/step - loss: 1.4078 - accuracy: 0.4981\n",
            "Epoch 54/100\n",
            "40/40 [==============================] - 0s 10ms/step - loss: 1.4022 - accuracy: 0.4989\n",
            "Epoch 55/100\n",
            "40/40 [==============================] - 0s 10ms/step - loss: 1.3957 - accuracy: 0.5005\n",
            "Epoch 56/100\n",
            "40/40 [==============================] - 0s 11ms/step - loss: 1.3960 - accuracy: 0.5015\n",
            "Epoch 57/100\n",
            "40/40 [==============================] - 0s 10ms/step - loss: 1.3931 - accuracy: 0.5013\n",
            "Epoch 58/100\n",
            "40/40 [==============================] - 0s 10ms/step - loss: 1.3945 - accuracy: 0.4991\n",
            "Epoch 59/100\n",
            "40/40 [==============================] - 0s 10ms/step - loss: 1.3828 - accuracy: 0.5071\n",
            "Epoch 60/100\n",
            "40/40 [==============================] - 0s 10ms/step - loss: 1.3960 - accuracy: 0.5015\n",
            "Epoch 61/100\n",
            "40/40 [==============================] - 0s 10ms/step - loss: 1.3848 - accuracy: 0.5072\n",
            "Epoch 62/100\n",
            "40/40 [==============================] - 0s 10ms/step - loss: 1.3850 - accuracy: 0.5030\n",
            "Epoch 63/100\n",
            "40/40 [==============================] - 0s 10ms/step - loss: 1.3782 - accuracy: 0.5066\n",
            "Epoch 64/100\n",
            "40/40 [==============================] - 0s 10ms/step - loss: 1.3751 - accuracy: 0.5074\n",
            "Epoch 65/100\n",
            "40/40 [==============================] - 0s 10ms/step - loss: 1.3761 - accuracy: 0.5085\n",
            "Epoch 66/100\n",
            "40/40 [==============================] - 0s 10ms/step - loss: 1.3760 - accuracy: 0.5099\n",
            "Epoch 67/100\n",
            "40/40 [==============================] - 0s 9ms/step - loss: 1.3787 - accuracy: 0.5104\n",
            "Epoch 68/100\n",
            "40/40 [==============================] - 0s 10ms/step - loss: 1.3680 - accuracy: 0.5125\n",
            "Epoch 69/100\n",
            "40/40 [==============================] - 0s 10ms/step - loss: 1.3642 - accuracy: 0.5120\n",
            "Epoch 70/100\n",
            "40/40 [==============================] - 0s 10ms/step - loss: 1.3590 - accuracy: 0.5149\n",
            "Epoch 71/100\n",
            "40/40 [==============================] - 0s 10ms/step - loss: 1.3542 - accuracy: 0.5171\n",
            "Epoch 72/100\n",
            "40/40 [==============================] - 0s 10ms/step - loss: 1.3579 - accuracy: 0.5152\n",
            "Epoch 73/100\n",
            "40/40 [==============================] - 0s 11ms/step - loss: 1.3582 - accuracy: 0.5155\n",
            "Epoch 74/100\n",
            "40/40 [==============================] - 0s 10ms/step - loss: 1.3554 - accuracy: 0.5175\n",
            "Epoch 75/100\n",
            "40/40 [==============================] - 0s 10ms/step - loss: 1.3481 - accuracy: 0.5196\n",
            "Epoch 76/100\n",
            "40/40 [==============================] - 0s 10ms/step - loss: 1.3476 - accuracy: 0.5193\n",
            "Epoch 77/100\n",
            "40/40 [==============================] - 0s 10ms/step - loss: 1.3443 - accuracy: 0.5200\n",
            "Epoch 78/100\n",
            "40/40 [==============================] - 0s 10ms/step - loss: 1.3446 - accuracy: 0.5189\n",
            "Epoch 79/100\n",
            "40/40 [==============================] - 0s 10ms/step - loss: 1.3417 - accuracy: 0.5166\n",
            "Epoch 80/100\n",
            "40/40 [==============================] - 0s 11ms/step - loss: 1.3453 - accuracy: 0.5192\n",
            "Epoch 81/100\n",
            "40/40 [==============================] - 0s 10ms/step - loss: 1.3467 - accuracy: 0.5186\n",
            "Epoch 82/100\n",
            "40/40 [==============================] - 0s 10ms/step - loss: 1.3362 - accuracy: 0.5225\n",
            "Epoch 83/100\n",
            "40/40 [==============================] - 0s 11ms/step - loss: 1.3393 - accuracy: 0.5210\n",
            "Epoch 84/100\n",
            "40/40 [==============================] - 0s 11ms/step - loss: 1.3396 - accuracy: 0.5187\n",
            "Epoch 85/100\n",
            "40/40 [==============================] - 0s 10ms/step - loss: 1.3370 - accuracy: 0.5239\n",
            "Epoch 86/100\n",
            "40/40 [==============================] - 0s 10ms/step - loss: 1.3362 - accuracy: 0.5213\n",
            "Epoch 87/100\n",
            "40/40 [==============================] - 0s 11ms/step - loss: 1.3311 - accuracy: 0.5268\n",
            "Epoch 88/100\n",
            "40/40 [==============================] - 0s 10ms/step - loss: 1.3318 - accuracy: 0.5209\n",
            "Epoch 89/100\n",
            "40/40 [==============================] - 0s 10ms/step - loss: 1.3297 - accuracy: 0.5245\n",
            "Epoch 90/100\n",
            "40/40 [==============================] - 0s 10ms/step - loss: 1.3293 - accuracy: 0.5239\n",
            "Epoch 91/100\n",
            "40/40 [==============================] - 0s 10ms/step - loss: 1.3266 - accuracy: 0.5264\n",
            "Epoch 92/100\n",
            "40/40 [==============================] - 0s 10ms/step - loss: 1.3180 - accuracy: 0.5276\n",
            "Epoch 93/100\n",
            "40/40 [==============================] - 0s 10ms/step - loss: 1.3245 - accuracy: 0.5239\n",
            "Epoch 94/100\n",
            "40/40 [==============================] - 0s 10ms/step - loss: 1.3240 - accuracy: 0.5255\n",
            "Epoch 95/100\n",
            "40/40 [==============================] - 0s 10ms/step - loss: 1.3166 - accuracy: 0.5283\n",
            "Epoch 96/100\n",
            "40/40 [==============================] - 0s 10ms/step - loss: 1.3257 - accuracy: 0.5243\n",
            "Epoch 97/100\n",
            "40/40 [==============================] - 0s 10ms/step - loss: 1.3208 - accuracy: 0.5284\n",
            "Epoch 98/100\n",
            "40/40 [==============================] - 0s 10ms/step - loss: 1.3107 - accuracy: 0.5339\n",
            "Epoch 99/100\n",
            "40/40 [==============================] - 0s 10ms/step - loss: 1.3126 - accuracy: 0.5318\n",
            "Epoch 100/100\n",
            "40/40 [==============================] - 0s 10ms/step - loss: 1.3185 - accuracy: 0.5280\n",
            "CPU times: user 50.1 s, sys: 5.61 s, total: 55.7 s\n",
            "Wall time: 42.9 s\n"
          ],
          "name": "stdout"
        }
      ]
    },
    {
      "cell_type": "code",
      "metadata": {
        "id": "_2dx_8qbTKNo",
        "colab_type": "code",
        "outputId": "d74e99b2-536c-4113-c4a0-2c63d756f525",
        "colab": {
          "base_uri": "https://localhost:8080/",
          "height": 1000
        }
      },
      "source": [
        "%%time\n",
        "# epochs using trainingmodel. for random accuracy\n",
        "nr_epochs = 100\n",
        "model_3.fit(x_train, y_train, batch_size=sample_per_batch, epochs=nr_epochs,\n",
        "            callbacks=get_tensorboard(model_name='model 3 XL'), validation_schema=(x_val, y_val))"
      ],
      "execution_count": 0,
      "outputs": [
        {
          "output_type": "stream",
          "text": [
            "Sucessfully created Folder\n",
            "Epoch 1/100\n",
            "40/40 [==============================] - 0s 11ms/step - loss: 2.2582 - accuracy: 0.1437\n",
            "Epoch 2/100\n",
            "40/40 [==============================] - 0s 10ms/step - loss: 2.0979 - accuracy: 0.2256\n",
            "Epoch 3/100\n",
            "40/40 [==============================] - 0s 10ms/step - loss: 1.9863 - accuracy: 0.2720\n",
            "Epoch 4/100\n",
            "40/40 [==============================] - 0s 10ms/step - loss: 1.9123 - accuracy: 0.3064\n",
            "Epoch 5/100\n",
            "40/40 [==============================] - 0s 11ms/step - loss: 1.8638 - accuracy: 0.3257\n",
            "Epoch 6/100\n",
            "40/40 [==============================] - 0s 10ms/step - loss: 1.8182 - accuracy: 0.3449\n",
            "Epoch 7/100\n",
            "40/40 [==============================] - 0s 11ms/step - loss: 1.7850 - accuracy: 0.3558\n",
            "Epoch 8/100\n",
            "40/40 [==============================] - 0s 11ms/step - loss: 1.7664 - accuracy: 0.3611\n",
            "Epoch 9/100\n",
            "40/40 [==============================] - 0s 11ms/step - loss: 1.7511 - accuracy: 0.3684\n",
            "Epoch 10/100\n",
            "40/40 [==============================] - 0s 11ms/step - loss: 1.7382 - accuracy: 0.3729\n",
            "Epoch 11/100\n",
            "40/40 [==============================] - 0s 11ms/step - loss: 1.7179 - accuracy: 0.3814\n",
            "Epoch 12/100\n",
            "40/40 [==============================] - 0s 11ms/step - loss: 1.7030 - accuracy: 0.3880\n",
            "Epoch 13/100\n",
            "40/40 [==============================] - 0s 10ms/step - loss: 1.6824 - accuracy: 0.3953\n",
            "Epoch 14/100\n",
            "40/40 [==============================] - 0s 11ms/step - loss: 1.6699 - accuracy: 0.3972\n",
            "Epoch 15/100\n",
            "40/40 [==============================] - 0s 10ms/step - loss: 1.6685 - accuracy: 0.4007\n",
            "Epoch 16/100\n",
            "40/40 [==============================] - 0s 10ms/step - loss: 1.6627 - accuracy: 0.4042\n",
            "Epoch 17/100\n",
            "40/40 [==============================] - 0s 10ms/step - loss: 1.6425 - accuracy: 0.4107\n",
            "Epoch 18/100\n",
            "40/40 [==============================] - 0s 10ms/step - loss: 1.6349 - accuracy: 0.4140\n",
            "Epoch 19/100\n",
            "40/40 [==============================] - 0s 11ms/step - loss: 1.6328 - accuracy: 0.4135\n",
            "Epoch 20/100\n",
            "40/40 [==============================] - 0s 10ms/step - loss: 1.6203 - accuracy: 0.4192\n",
            "Epoch 21/100\n",
            "40/40 [==============================] - 0s 11ms/step - loss: 1.6180 - accuracy: 0.4176\n",
            "Epoch 22/100\n",
            "40/40 [==============================] - 0s 10ms/step - loss: 1.6051 - accuracy: 0.4236\n",
            "Epoch 23/100\n",
            "40/40 [==============================] - 0s 11ms/step - loss: 1.6065 - accuracy: 0.4240\n",
            "Epoch 24/100\n",
            "40/40 [==============================] - 0s 10ms/step - loss: 1.5980 - accuracy: 0.4293\n",
            "Epoch 25/100\n",
            "40/40 [==============================] - 0s 10ms/step - loss: 1.5957 - accuracy: 0.4264\n",
            "Epoch 26/100\n",
            "40/40 [==============================] - 0s 11ms/step - loss: 1.5987 - accuracy: 0.4279\n",
            "Epoch 27/100\n",
            "40/40 [==============================] - 0s 11ms/step - loss: 1.5859 - accuracy: 0.4306\n",
            "Epoch 28/100\n",
            "40/40 [==============================] - 0s 10ms/step - loss: 1.5861 - accuracy: 0.4282\n",
            "Epoch 29/100\n",
            "40/40 [==============================] - 0s 10ms/step - loss: 1.5788 - accuracy: 0.4312\n",
            "Epoch 30/100\n",
            "40/40 [==============================] - 0s 10ms/step - loss: 1.5669 - accuracy: 0.4381\n",
            "Epoch 31/100\n",
            "40/40 [==============================] - 0s 10ms/step - loss: 1.5711 - accuracy: 0.4354\n",
            "Epoch 32/100\n",
            "40/40 [==============================] - 0s 10ms/step - loss: 1.5693 - accuracy: 0.4367\n",
            "Epoch 33/100\n",
            "40/40 [==============================] - 0s 10ms/step - loss: 1.5658 - accuracy: 0.4391\n",
            "Epoch 34/100\n",
            "40/40 [==============================] - 0s 10ms/step - loss: 1.5542 - accuracy: 0.4399\n",
            "Epoch 35/100\n",
            "40/40 [==============================] - 0s 11ms/step - loss: 1.5575 - accuracy: 0.4408\n",
            "Epoch 36/100\n",
            "40/40 [==============================] - 0s 10ms/step - loss: 1.5459 - accuracy: 0.4432\n",
            "Epoch 37/100\n",
            "40/40 [==============================] - 0s 10ms/step - loss: 1.5591 - accuracy: 0.4374\n",
            "Epoch 38/100\n",
            "40/40 [==============================] - 0s 10ms/step - loss: 1.5484 - accuracy: 0.4418\n",
            "Epoch 39/100\n",
            "40/40 [==============================] - 0s 10ms/step - loss: 1.5431 - accuracy: 0.4487\n",
            "Epoch 40/100\n",
            "40/40 [==============================] - 0s 10ms/step - loss: 1.5425 - accuracy: 0.4446\n",
            "Epoch 41/100\n",
            "40/40 [==============================] - 0s 11ms/step - loss: 1.5387 - accuracy: 0.4471\n",
            "Epoch 42/100\n",
            "40/40 [==============================] - 0s 11ms/step - loss: 1.5377 - accuracy: 0.4490\n",
            "Epoch 43/100\n",
            "40/40 [==============================] - 0s 11ms/step - loss: 1.5373 - accuracy: 0.4467\n",
            "Epoch 44/100\n",
            "40/40 [==============================] - 0s 11ms/step - loss: 1.5321 - accuracy: 0.4486\n",
            "Epoch 45/100\n",
            "40/40 [==============================] - 0s 10ms/step - loss: 1.5249 - accuracy: 0.4528\n",
            "Epoch 46/100\n",
            "40/40 [==============================] - 0s 10ms/step - loss: 1.5229 - accuracy: 0.4518\n",
            "Epoch 47/100\n",
            "40/40 [==============================] - 0s 11ms/step - loss: 1.5333 - accuracy: 0.4482\n",
            "Epoch 48/100\n",
            "40/40 [==============================] - 0s 10ms/step - loss: 1.5250 - accuracy: 0.4531\n",
            "Epoch 49/100\n",
            "40/40 [==============================] - 0s 11ms/step - loss: 1.5197 - accuracy: 0.4560\n",
            "Epoch 50/100\n",
            "40/40 [==============================] - 0s 11ms/step - loss: 1.5160 - accuracy: 0.4531\n",
            "Epoch 51/100\n",
            "40/40 [==============================] - 0s 11ms/step - loss: 1.5171 - accuracy: 0.4533\n",
            "Epoch 52/100\n",
            "40/40 [==============================] - 0s 11ms/step - loss: 1.5187 - accuracy: 0.4534\n",
            "Epoch 53/100\n",
            "40/40 [==============================] - 0s 10ms/step - loss: 1.5222 - accuracy: 0.4496\n",
            "Epoch 54/100\n",
            "40/40 [==============================] - 0s 11ms/step - loss: 1.5146 - accuracy: 0.4534\n",
            "Epoch 55/100\n",
            "40/40 [==============================] - 0s 10ms/step - loss: 1.5162 - accuracy: 0.4533\n",
            "Epoch 56/100\n",
            "40/40 [==============================] - 0s 10ms/step - loss: 1.5112 - accuracy: 0.4581\n",
            "Epoch 57/100\n",
            "40/40 [==============================] - 0s 10ms/step - loss: 1.5161 - accuracy: 0.4520\n",
            "Epoch 58/100\n",
            "40/40 [==============================] - 0s 10ms/step - loss: 1.5064 - accuracy: 0.4587\n",
            "Epoch 59/100\n",
            "40/40 [==============================] - 0s 11ms/step - loss: 1.4983 - accuracy: 0.4626\n",
            "Epoch 60/100\n",
            "40/40 [==============================] - 0s 11ms/step - loss: 1.5015 - accuracy: 0.4598\n",
            "Epoch 61/100\n",
            "40/40 [==============================] - 0s 10ms/step - loss: 1.4984 - accuracy: 0.4574\n",
            "Epoch 62/100\n",
            "40/40 [==============================] - 0s 10ms/step - loss: 1.4964 - accuracy: 0.4608\n",
            "Epoch 63/100\n",
            "40/40 [==============================] - 0s 10ms/step - loss: 1.4934 - accuracy: 0.4597\n",
            "Epoch 64/100\n",
            "40/40 [==============================] - 0s 10ms/step - loss: 1.4920 - accuracy: 0.4619\n",
            "Epoch 65/100\n",
            "40/40 [==============================] - 0s 10ms/step - loss: 1.4982 - accuracy: 0.4601\n",
            "Epoch 66/100\n",
            "40/40 [==============================] - 0s 11ms/step - loss: 1.4984 - accuracy: 0.4630\n",
            "Epoch 67/100\n",
            "40/40 [==============================] - 0s 10ms/step - loss: 1.4863 - accuracy: 0.4631\n",
            "Epoch 68/100\n",
            "40/40 [==============================] - 0s 10ms/step - loss: 1.4921 - accuracy: 0.4609\n",
            "Epoch 69/100\n",
            "40/40 [==============================] - 0s 11ms/step - loss: 1.4888 - accuracy: 0.4631\n",
            "Epoch 70/100\n",
            "40/40 [==============================] - 0s 10ms/step - loss: 1.4930 - accuracy: 0.4649\n",
            "Epoch 71/100\n",
            "40/40 [==============================] - 0s 10ms/step - loss: 1.4851 - accuracy: 0.4635\n",
            "Epoch 72/100\n",
            "40/40 [==============================] - 0s 10ms/step - loss: 1.4809 - accuracy: 0.4651\n",
            "Epoch 73/100\n",
            "40/40 [==============================] - 0s 11ms/step - loss: 1.4861 - accuracy: 0.4642\n",
            "Epoch 74/100\n",
            "40/40 [==============================] - 0s 11ms/step - loss: 1.4838 - accuracy: 0.4681\n",
            "Epoch 75/100\n",
            "40/40 [==============================] - 0s 10ms/step - loss: 1.4762 - accuracy: 0.4691\n",
            "Epoch 76/100\n",
            "40/40 [==============================] - 0s 10ms/step - loss: 1.4832 - accuracy: 0.4642\n",
            "Epoch 77/100\n",
            "40/40 [==============================] - 0s 10ms/step - loss: 1.4771 - accuracy: 0.4683\n",
            "Epoch 78/100\n",
            "40/40 [==============================] - 0s 10ms/step - loss: 1.4812 - accuracy: 0.4648\n",
            "Epoch 79/100\n",
            "40/40 [==============================] - 0s 10ms/step - loss: 1.4803 - accuracy: 0.4656\n",
            "Epoch 80/100\n",
            "40/40 [==============================] - 0s 10ms/step - loss: 1.4695 - accuracy: 0.4677\n",
            "Epoch 81/100\n",
            "40/40 [==============================] - 0s 10ms/step - loss: 1.4689 - accuracy: 0.4659\n",
            "Epoch 82/100\n",
            "40/40 [==============================] - 0s 10ms/step - loss: 1.4725 - accuracy: 0.4713\n",
            "Epoch 83/100\n",
            "40/40 [==============================] - 0s 10ms/step - loss: 1.4743 - accuracy: 0.4696\n",
            "Epoch 84/100\n",
            "40/40 [==============================] - 0s 10ms/step - loss: 1.4738 - accuracy: 0.4678\n",
            "Epoch 85/100\n",
            "40/40 [==============================] - 0s 10ms/step - loss: 1.4775 - accuracy: 0.4674\n",
            "Epoch 86/100\n",
            "40/40 [==============================] - 0s 10ms/step - loss: 1.4665 - accuracy: 0.4710\n",
            "Epoch 87/100\n",
            "40/40 [==============================] - 0s 10ms/step - loss: 1.4626 - accuracy: 0.4708\n",
            "Epoch 88/100\n",
            "40/40 [==============================] - 0s 10ms/step - loss: 1.4661 - accuracy: 0.4698\n",
            "Epoch 89/100\n",
            "40/40 [==============================] - 0s 10ms/step - loss: 1.4634 - accuracy: 0.4769\n",
            "Epoch 90/100\n",
            "40/40 [==============================] - 0s 10ms/step - loss: 1.4700 - accuracy: 0.4695\n",
            "Epoch 91/100\n",
            "40/40 [==============================] - 0s 10ms/step - loss: 1.4568 - accuracy: 0.4781\n",
            "Epoch 92/100\n",
            "40/40 [==============================] - 0s 10ms/step - loss: 1.4662 - accuracy: 0.4722\n",
            "Epoch 93/100\n",
            "40/40 [==============================] - 0s 10ms/step - loss: 1.4635 - accuracy: 0.4717\n",
            "Epoch 94/100\n",
            "40/40 [==============================] - 0s 11ms/step - loss: 1.4598 - accuracy: 0.4743\n",
            "Epoch 95/100\n",
            "40/40 [==============================] - 0s 10ms/step - loss: 1.4588 - accuracy: 0.4742\n",
            "Epoch 96/100\n",
            "40/40 [==============================] - 0s 11ms/step - loss: 1.4592 - accuracy: 0.4756\n",
            "Epoch 97/100\n",
            "40/40 [==============================] - 0s 10ms/step - loss: 1.4590 - accuracy: 0.4764\n",
            "Epoch 98/100\n",
            "40/40 [==============================] - 0s 10ms/step - loss: 1.4600 - accuracy: 0.4757\n",
            "Epoch 99/100\n",
            "40/40 [==============================] - 0s 10ms/step - loss: 1.4577 - accuracy: 0.4762\n",
            "Epoch 100/100\n",
            "40/40 [==============================] - 0s 10ms/step - loss: 1.4599 - accuracy: 0.4725\n",
            "CPU times: user 50.7 s, sys: 5.67 s, total: 56.4 s\n",
            "Wall time: 43.6 s\n"
          ],
          "name": "stdout"
        }
      ]
    },
    {
      "cell_type": "markdown",
      "metadata": {
        "id": "dNreVIyVaK90",
        "colab_type": "text"
      },
      "source": [
        "## Prediction on individual image"
      ]
    },
    {
      "cell_type": "code",
      "metadata": {
        "id": "4EgNu_OwTgXp",
        "colab_type": "code",
        "outputId": "74bbcc03-d45d-45d7-c4c0-a0b62fe158cb",
        "colab": {
          "base_uri": "https://localhost:8080/",
          "height": 34
        }
      },
      "source": [
        "x_val.shape"
      ],
      "execution_count": 0,
      "outputs": [
        {
          "output_type": "execute_result",
          "data": {
            "text/plain": [
              "(10000, 3072)"
            ]
          },
          "metadata": {
            "tags": []
          },
          "execution_count": 40
        }
      ]
    },
    {
      "cell_type": "code",
      "metadata": {
        "id": "FK_5nis6ablC",
        "colab_type": "code",
        "outputId": "97a76bd5-08cd-447c-f663-125b6b41611e",
        "colab": {
          "base_uri": "https://localhost:8080/",
          "height": 52
        }
      },
      "source": [
        "x_val[0]"
      ],
      "execution_count": 0,
      "outputs": [
        {
          "output_type": "execute_result",
          "data": {
            "text/plain": [
              "array([0.23137255, 0.24313725, 0.24705882, ..., 0.48235294, 0.36078431,\n",
              "       0.28235294])"
            ]
          },
          "metadata": {
            "tags": []
          },
          "execution_count": 41
        }
      ]
    },
    {
      "cell_type": "code",
      "metadata": {
        "id": "lXDFTs8LajMv",
        "colab_type": "code",
        "colab": {}
      },
      "source": [
        "test = np.expand_dims(x_val[0], axis=0)"
      ],
      "execution_count": 0,
      "outputs": []
    },
    {
      "cell_type": "code",
      "metadata": {
        "id": "Dxag1EvNbF9g",
        "colab_type": "code",
        "outputId": "3b07bc08-05c5-44d0-b147-69bca6bd694d",
        "colab": {
          "base_uri": "https://localhost:8080/",
          "height": 34
        }
      },
      "source": [
        "test.shape"
      ],
      "execution_count": 0,
      "outputs": [
        {
          "output_type": "execute_result",
          "data": {
            "text/plain": [
              "(1, 3072)"
            ]
          },
          "metadata": {
            "tags": []
          },
          "execution_count": 43
        }
      ]
    },
    {
      "cell_type": "code",
      "metadata": {
        "id": "cw4N7k6YbN9o",
        "colab_type": "code",
        "outputId": "6e45ab06-1c56-4728-b079-1e02ab7a528f",
        "colab": {
          "base_uri": "https://localhost:8080/",
          "height": 34
        }
      },
      "source": [
        "model_2.predict(test).sum()"
      ],
      "execution_count": 0,
      "outputs": [
        {
          "output_type": "execute_result",
          "data": {
            "text/plain": [
              "1.0"
            ]
          },
          "metadata": {
            "tags": []
          },
          "execution_count": 44
        }
      ]
    },
    {
      "cell_type": "code",
      "metadata": {
        "id": "8ghg4r05bbmU",
        "colab_type": "code",
        "outputId": "801b57c2-11f0-4de1-b7ab-1c073a8fc1f7",
        "colab": {
          "base_uri": "https://localhost:8080/",
          "height": 243
        }
      },
      "source": [
        "model_2.predict(x_val)"
      ],
      "execution_count": 0,
      "outputs": [
        {
          "output_type": "execute_result",
          "data": {
            "text/plain": [
              "array([[4.9484801e-02, 6.6169892e-03, 7.7269316e-02, ..., 2.4645193e-02,\n",
              "        8.5357355e-04, 1.0502849e-03],\n",
              "       [3.2684112e-03, 8.2191837e-01, 1.7459618e-04, ..., 1.0926381e-03,\n",
              "        8.2019143e-02, 8.8514209e-02],\n",
              "       [3.1475984e-02, 2.8037492e-02, 5.1491220e-02, ..., 9.3588978e-02,\n",
              "        2.8348092e-02, 6.6115505e-01],\n",
              "       ...,\n",
              "       [1.3062040e-03, 3.4389812e-01, 1.0235923e-03, ..., 7.0402808e-03,\n",
              "        3.4642649e-01, 2.8968364e-01],\n",
              "       [1.5134444e-03, 7.7306187e-01, 2.7848508e-02, ..., 1.0030219e-02,\n",
              "        8.9361416e-03, 7.7094883e-02],\n",
              "       [2.4958544e-03, 2.4163302e-05, 4.8906177e-02, ..., 6.1325073e-01,\n",
              "        4.0713116e-05, 1.4205489e-04]], dtype=float32)"
            ]
          },
          "metadata": {
            "tags": []
          },
          "execution_count": 45
        }
      ]
    },
    {
      "cell_type": "code",
      "metadata": {
        "id": "uZ4DYJnsb3v0",
        "colab_type": "code",
        "outputId": "222acf6b-4c19-4db6-8531-50177da714a0",
        "colab": {
          "base_uri": "https://localhost:8080/",
          "height": 34
        }
      },
      "source": [
        "model_2.predict(x_val).shape"
      ],
      "execution_count": 0,
      "outputs": [
        {
          "output_type": "execute_result",
          "data": {
            "text/plain": [
              "(10000, 10)"
            ]
          },
          "metadata": {
            "tags": []
          },
          "execution_count": 46
        }
      ]
    },
    {
      "cell_type": "code",
      "metadata": {
        "id": "ALLvzQdgb-1s",
        "colab_type": "code",
        "outputId": "24212a60-5061-4403-8759-4e6421d97821",
        "colab": {
          "base_uri": "https://localhost:8080/",
          "height": 106
        }
      },
      "source": [
        "model_2.predict_classes(test)"
      ],
      "execution_count": 0,
      "outputs": [
        {
          "output_type": "stream",
          "text": [
            "WARNING:tensorflow:From <ipython-input-47-d96bec2a87e6>:1: Sequential.predict_classes (from tensorflow.python.keras.engine.sequential) is deprecated and will be removed after 2021-01-01.\n",
            "Instructions for updating:\n",
            "Please use instead:* `np.argmax(model.predict(x), axis=-1)`,   if your model does multi-class classification   (e.g. if it uses a `softmax` last-layer activation).* `(model.predict(x) > 0.5).astype(\"int32\")`,   if your model does binary classification   (e.g. if it uses a `sigmoid` last-layer activation).\n"
          ],
          "name": "stdout"
        },
        {
          "output_type": "execute_result",
          "data": {
            "text/plain": [
              "array([6])"
            ]
          },
          "metadata": {
            "tags": []
          },
          "execution_count": 47
        }
      ]
    },
    {
      "cell_type": "code",
      "metadata": {
        "id": "FMPwfAjFcpEm",
        "colab_type": "code",
        "outputId": "9effbf42-cb8e-443c-fcae-92d0779b9a79",
        "colab": {
          "base_uri": "https://localhost:8080/",
          "height": 139
        }
      },
      "source": [
        "y_val"
      ],
      "execution_count": 0,
      "outputs": [
        {
          "output_type": "execute_result",
          "data": {
            "text/plain": [
              "array([[6],\n",
              "       [9],\n",
              "       [9],\n",
              "       ...,\n",
              "       [1],\n",
              "       [1],\n",
              "       [5]], dtype=uint8)"
            ]
          },
          "metadata": {
            "tags": []
          },
          "execution_count": 48
        }
      ]
    },
    {
      "cell_type": "code",
      "metadata": {
        "id": "7ZWLHY7cc1ZL",
        "colab_type": "code",
        "outputId": "94daaefa-5acc-4fd5-f781-a3f6945eddcd",
        "colab": {
          "base_uri": "https://localhost:8080/",
          "height": 139
        }
      },
      "source": [
        "print(y_val)"
      ],
      "execution_count": 0,
      "outputs": [
        {
          "output_type": "stream",
          "text": [
            "[[6]\n",
            " [9]\n",
            " [9]\n",
            " ...\n",
            " [1]\n",
            " [1]\n",
            " [5]]\n"
          ],
          "name": "stdout"
        }
      ]
    },
    {
      "cell_type": "code",
      "metadata": {
        "id": "9Usl9gcec6Zy",
        "colab_type": "code",
        "outputId": "a127b08b-710a-4ba2-d5f3-f20360f90fe7",
        "colab": {
          "base_uri": "https://localhost:8080/",
          "height": 191
        }
      },
      "source": [
        "for i in range(10):\n",
        "  test_img = np.expand_dims(x_val[i], axis=0)\n",
        "  predict_val = model_2.predict_classes(test_img)[0]\n",
        "  print(f'actual value {y_val[i][0]} vs predict value {predict_val}')\n"
      ],
      "execution_count": 0,
      "outputs": [
        {
          "output_type": "stream",
          "text": [
            "actual value 6 vs predict value 6\n",
            "actual value 9 vs predict value 1\n",
            "actual value 9 vs predict value 9\n",
            "actual value 4 vs predict value 6\n",
            "actual value 1 vs predict value 8\n",
            "actual value 1 vs predict value 9\n",
            "actual value 2 vs predict value 2\n",
            "actual value 7 vs predict value 7\n",
            "actual value 8 vs predict value 8\n",
            "actual value 3 vs predict value 2\n"
          ],
          "name": "stdout"
        }
      ]
    },
    {
      "cell_type": "markdown",
      "metadata": {
        "id": "0ftTCZKgjm-4",
        "colab_type": "text"
      },
      "source": [
        "# Evaluation"
      ]
    },
    {
      "cell_type": "code",
      "metadata": {
        "id": "zxjOR5dhh46j",
        "colab_type": "code",
        "outputId": "e4900be8-70a4-452a-e4c0-8ad9ac43b345",
        "colab": {
          "base_uri": "https://localhost:8080/",
          "height": 34
        }
      },
      "source": [
        "model_2.metrics_names"
      ],
      "execution_count": 0,
      "outputs": [
        {
          "output_type": "execute_result",
          "data": {
            "text/plain": [
              "['loss', 'accuracy']"
            ]
          },
          "metadata": {
            "tags": []
          },
          "execution_count": 51
        }
      ]
    },
    {
      "cell_type": "code",
      "metadata": {
        "id": "Y4e80UrXj5_c",
        "colab_type": "code",
        "outputId": "4c6f94a5-f530-4b9a-d2d5-76a35636ac81",
        "colab": {
          "base_uri": "https://localhost:8080/",
          "height": 34
        }
      },
      "source": [
        "test_loss, test_Accuracy = model_2.evaluate(x_test, y_test)"
      ],
      "execution_count": 0,
      "outputs": [
        {
          "output_type": "stream",
          "text": [
            "313/313 [==============================] - 1s 3ms/step - loss: 1.4338 - accuracy: 0.4877\n"
          ],
          "name": "stdout"
        }
      ]
    },
    {
      "cell_type": "markdown",
      "metadata": {
        "id": "Usz_7FdulH84",
        "colab_type": "text"
      },
      "source": [
        "# confusion metrics"
      ]
    },
    {
      "cell_type": "code",
      "metadata": {
        "id": "9YATDt5gkfEH",
        "colab_type": "code",
        "colab": {}
      },
      "source": [
        "predictions = model_2.predict_classes(x_test)\n",
        "conf_metrics = confusion_matrix(y_true=y_test, y_pred=predictions)"
      ],
      "execution_count": 0,
      "outputs": []
    },
    {
      "cell_type": "code",
      "metadata": {
        "id": "jTVnraC7l6gZ",
        "colab_type": "code",
        "outputId": "ad183b59-305f-4005-a85e-a864a5a32b5f",
        "colab": {
          "base_uri": "https://localhost:8080/",
          "height": 191
        }
      },
      "source": [
        "conf_metrics"
      ],
      "execution_count": 0,
      "outputs": [
        {
          "output_type": "execute_result",
          "data": {
            "text/plain": [
              "array([[560,  21,  95,  21,  44,  22,  27,  28, 165,  17],\n",
              "       [ 58, 585,  31,  23,  16,  26,  26,  29, 119,  87],\n",
              "       [ 71,  13, 372,  74, 201,  84, 110,  44,  23,   8],\n",
              "       [ 32,  13, 109, 306,  85, 201, 142,  53,  36,  23],\n",
              "       [ 47,  10, 154,  48, 489,  39, 115,  61,  33,   4],\n",
              "       [ 12,  10, 124, 189,  82, 392,  81,  63,  38,   9],\n",
              "       [  8,  13,  82,  73, 133,  67, 583,  19,  17,   5],\n",
              "       [ 60,   8,  64,  56, 118,  99,  33, 522,  20,  20],\n",
              "       [116,  51,  21,  21,  18,  25,  18,  19, 691,  20],\n",
              "       [ 75, 203,  26,  54,  21,  26,  33,  53, 132, 377]])"
            ]
          },
          "metadata": {
            "tags": []
          },
          "execution_count": 54
        }
      ]
    },
    {
      "cell_type": "code",
      "metadata": {
        "id": "IO4u5b51tz8e",
        "colab_type": "code",
        "colab": {}
      },
      "source": [
        "conf_metrics.shape\n",
        "nr_cols = conf_metrics.shape[0]\n",
        "nr_rows = conf_metrics.shape[1]"
      ],
      "execution_count": 0,
      "outputs": []
    },
    {
      "cell_type": "code",
      "metadata": {
        "id": "VMFejTi9t5YA",
        "colab_type": "code",
        "outputId": "ef05d79b-a7f7-498c-8dbb-e24cd8178bdc",
        "colab": {
          "base_uri": "https://localhost:8080/",
          "height": 411
        }
      },
      "source": [
        "plt.figure(figsize=(7,7))\n",
        "plt.imshow(conf_metrics, cmap=plt.cm.Greens)\n",
        "plt.title(\"Confusion Metrics\")\n",
        "plt.ylabel('actual value')\n",
        "plt.xlabel('predicted value')\n",
        "tick_mark = np.arange(10)\n",
        "plt.yticks(tick_mark, LABEL_NAMES)\n",
        "plt.colorbar()\n",
        "\n",
        "for i, j in itertools.product(range(nr_rows), range(nr_cols)):\n",
        "  plt.text(i, j, conf_metrics[i, j], horizontalalignment='center',\n",
        "           color='white' if conf_metrics[i,j]>conf_metrics.max()/2 else 'black')\n",
        "plt.show()"
      ],
      "execution_count": 0,
      "outputs": [
        {
          "output_type": "display_data",
          "data": {
            "image/png": "[encoded data removed]",
            "text/plain": [
              "<Figure size 504x504 with 2 Axes>"
            ]
          },
          "metadata": {
            "tags": []
          }
        }
      ]
    },
    {
      "cell_type": "code",
      "metadata": {
        "id": "8EFFyqBkwHn3",
        "colab_type": "code",
        "outputId": "cc094065-406a-4edb-a4f9-fcc5d3965cfc",
        "colab": {
          "base_uri": "https://localhost:8080/",
          "height": 34
        }
      },
      "source": [
        "# true positive\n",
        "np.diag(conf_metrics)\n"
      ],
      "execution_count": 0,
      "outputs": [
        {
          "output_type": "execute_result",
          "data": {
            "text/plain": [
              "array([560, 585, 372, 306, 489, 392, 583, 522, 691, 377])"
            ]
          },
          "metadata": {
            "tags": []
          },
          "execution_count": 70
        }
      ]
    },
    {
      "cell_type": "code",
      "metadata": {
        "id": "kU8TpSnxAPvC",
        "colab_type": "code",
        "outputId": "44aded87-e789-4dc5-aa7f-928acf7a0a88",
        "colab": {
          "base_uri": "https://localhost:8080/",
          "height": 52
        }
      },
      "source": [
        "recal = np.diag(conf_metrics)/np.sum(conf_metrics, axis=1)\n",
        "recal"
      ],
      "execution_count": 0,
      "outputs": [
        {
          "output_type": "execute_result",
          "data": {
            "text/plain": [
              "array([0.56 , 0.585, 0.372, 0.306, 0.489, 0.392, 0.583, 0.522, 0.691,\n",
              "       0.377])"
            ]
          },
          "metadata": {
            "tags": []
          },
          "execution_count": 72
        }
      ]
    },
    {
      "cell_type": "code",
      "metadata": {
        "id": "TablHbS8AsGv",
        "colab_type": "code",
        "outputId": "2b345958-e68b-4165-f96c-f0b2a0396329",
        "colab": {
          "base_uri": "https://localhost:8080/",
          "height": 52
        }
      },
      "source": [
        "precision = np.diag(conf_metrics)/np.sum(conf_metrics, axis=0)\n",
        "precision"
      ],
      "execution_count": 0,
      "outputs": [
        {
          "output_type": "execute_result",
          "data": {
            "text/plain": [
              "array([0.53897979, 0.63106796, 0.34508349, 0.35375723, 0.4051367 ,\n",
              "       0.39959225, 0.49914384, 0.58585859, 0.54238619, 0.66140351])"
            ]
          },
          "metadata": {
            "tags": []
          },
          "execution_count": 73
        }
      ]
    },
    {
      "cell_type": "code",
      "metadata": {
        "id": "7WqYiM18BKw-",
        "colab_type": "code",
        "outputId": "9d6b7fb0-8084-456e-fd13-7e4427bb495e",
        "colab": {
          "base_uri": "https://localhost:8080/",
          "height": 69
        }
      },
      "source": [
        "avg_recall = np.mean(recal)\n",
        "avg_preci = np.mean(precision)\n",
        "print(f'model 2 recall score is {avg_recall}')\n",
        "print(f'model 2 precision score is {avg_preci}')\n",
        "\n",
        "f1_score = 2 * (avg_preci * avg_recall) / (avg_preci + avg_recall) \n",
        "print(f'f  score is {f1_score}')\n"
      ],
      "execution_count": 0,
      "outputs": [
        {
          "output_type": "stream",
          "text": [
            "model 2 recall score is 0.48769999999999997\n",
            "model 2 precision score is 0.49624095336590407\n",
            "f  score is 0.49193340744411757\n"
          ],
          "name": "stdout"
        }
      ]
    },
    {
      "cell_type": "code",
      "metadata": {
        "id": "yyHHjWiSBdjv",
        "colab_type": "code",
        "colab": {}
      },
      "source": [
        ""
      ],
      "execution_count": 0,
      "outputs": []
    }
  ]
}